{
 "cells": [
  {
   "cell_type": "code",
   "execution_count": 124,
   "id": "78670a97",
   "metadata": {},
   "outputs": [],
   "source": [
    "import pandas as pd\n",
    "from sklearn.model_selection import train_test_split\n",
    "from sklearn.neighbors import KNeighborsClassifier\n",
    "from sklearn.pipeline import Pipeline\n",
    "from sklearn.metrics import classification_report\n",
    "from sklearn.feature_extraction.text import TfidfVectorizer"
   ]
  },
  {
   "cell_type": "code",
   "execution_count": 107,
   "id": "9fac7b3d",
   "metadata": {},
   "outputs": [
    {
     "data": {
      "text/plain": [
       "(162421, 3)"
      ]
     },
     "execution_count": 107,
     "metadata": {},
     "output_type": "execute_result"
    }
   ],
   "source": [
    "df = pd.read_csv('complaints.csv')\n",
    "df.shape"
   ]
  },
  {
   "cell_type": "markdown",
   "id": "8f7b6435",
   "metadata": {},
   "source": [
    "df_label = df.Label\n",
    "df_Text = df.Text"
   ]
  },
  {
   "cell_type": "markdown",
   "id": "b5e4a4ce",
   "metadata": {},
   "source": [
    "df_1 = pd.concat([df_label, df_Text], axis = 1)"
   ]
  },
  {
   "cell_type": "markdown",
   "id": "26c971cd",
   "metadata": {},
   "source": [
    "df_1.head()"
   ]
  },
  {
   "cell_type": "code",
   "execution_count": 108,
   "id": "0f5e539d",
   "metadata": {},
   "outputs": [
    {
     "data": {
      "text/plain": [
       "product\n",
       "credit_reporting       91179\n",
       "debt_collection        23150\n",
       "mortgages_and_loans    18990\n",
       "credit_card            15566\n",
       "retail_banking         13536\n",
       "Name: count, dtype: int64"
      ]
     },
     "execution_count": 108,
     "metadata": {},
     "output_type": "execute_result"
    }
   ],
   "source": [
    "df['product'].value_counts()"
   ]
  },
  {
   "cell_type": "code",
   "execution_count": 109,
   "id": "e7a2b272",
   "metadata": {},
   "outputs": [],
   "source": [
    "min_value = 13536\n",
    "\n",
    "credit_reporting = df[df['product'] == 'credit_reporting'].sample(min_value, random_state = 150)\n",
    "debt_collection = df[df['product'] == 'debt_collection'].sample(min_value, random_state = 150)\n",
    "mortgages_and_loans = df[df['product'] == 'mortgages_and_loans'].sample(min_value, random_state = 150)\n",
    "credit_card = df[df['product'] == 'credit_card'].sample(min_value, random_state = 150)\n",
    "retail_banking = df[df['product'] == 'retail_banking'].sample(min_value, random_state = 150)"
   ]
  },
  {
   "cell_type": "code",
   "execution_count": 110,
   "id": "c7257f62",
   "metadata": {},
   "outputs": [
    {
     "data": {
      "text/plain": [
       "product\n",
       "credit_reporting       13536\n",
       "debt_collection        13536\n",
       "mortgages_and_loans    13536\n",
       "credit_card            13536\n",
       "retail_banking         13536\n",
       "Name: count, dtype: int64"
      ]
     },
     "execution_count": 110,
     "metadata": {},
     "output_type": "execute_result"
    }
   ],
   "source": [
    "df = pd.concat([credit_reporting, debt_collection, mortgages_and_loans, credit_card, retail_banking], axis = 0)\n",
    "df['product'].value_counts()"
   ]
  },
  {
   "cell_type": "code",
   "execution_count": 111,
   "id": "06c3e411",
   "metadata": {},
   "outputs": [
    {
     "data": {
      "text/plain": [
       "(67680, 3)"
      ]
     },
     "execution_count": 111,
     "metadata": {},
     "output_type": "execute_result"
    }
   ],
   "source": [
    "df.shape"
   ]
  },
  {
   "cell_type": "code",
   "execution_count": 112,
   "id": "ab51766d",
   "metadata": {},
   "outputs": [
    {
     "data": {
      "text/html": [
       "<div>\n",
       "<style scoped>\n",
       "    .dataframe tbody tr th:only-of-type {\n",
       "        vertical-align: middle;\n",
       "    }\n",
       "\n",
       "    .dataframe tbody tr th {\n",
       "        vertical-align: top;\n",
       "    }\n",
       "\n",
       "    .dataframe thead th {\n",
       "        text-align: right;\n",
       "    }\n",
       "</style>\n",
       "<table border=\"1\" class=\"dataframe\">\n",
       "  <thead>\n",
       "    <tr style=\"text-align: right;\">\n",
       "      <th></th>\n",
       "      <th>Unnamed: 0</th>\n",
       "      <th>product</th>\n",
       "      <th>narrative</th>\n",
       "    </tr>\n",
       "  </thead>\n",
       "  <tbody>\n",
       "    <tr>\n",
       "      <th>2870</th>\n",
       "      <td>2870</td>\n",
       "      <td>retail_banking</td>\n",
       "      <td>account closed chase via phone account service...</td>\n",
       "    </tr>\n",
       "    <tr>\n",
       "      <th>79989</th>\n",
       "      <td>79989</td>\n",
       "      <td>retail_banking</td>\n",
       "      <td>customer bank switched pnc investing wanted pn...</td>\n",
       "    </tr>\n",
       "    <tr>\n",
       "      <th>121384</th>\n",
       "      <td>121384</td>\n",
       "      <td>credit_card</td>\n",
       "      <td>received usbank reliacard upon research indica...</td>\n",
       "    </tr>\n",
       "    <tr>\n",
       "      <th>33285</th>\n",
       "      <td>33285</td>\n",
       "      <td>mortgages_and_loans</td>\n",
       "      <td>writing regarding timely processing disburseme...</td>\n",
       "    </tr>\n",
       "    <tr>\n",
       "      <th>149784</th>\n",
       "      <td>149784</td>\n",
       "      <td>retail_banking</td>\n",
       "      <td>happened bank purchased bunk bed child receive...</td>\n",
       "    </tr>\n",
       "    <tr>\n",
       "      <th>122664</th>\n",
       "      <td>122664</td>\n",
       "      <td>credit_reporting</td>\n",
       "      <td>request free annual credit report believe cons...</td>\n",
       "    </tr>\n",
       "    <tr>\n",
       "      <th>17164</th>\n",
       "      <td>17164</td>\n",
       "      <td>credit_reporting</td>\n",
       "      <td>easter account service reporting fraudulent ac...</td>\n",
       "    </tr>\n",
       "    <tr>\n",
       "      <th>98505</th>\n",
       "      <td>98505</td>\n",
       "      <td>credit_card</td>\n",
       "      <td>separated continued share finance assist raisi...</td>\n",
       "    </tr>\n",
       "    <tr>\n",
       "      <th>1734</th>\n",
       "      <td>1734</td>\n",
       "      <td>credit_reporting</td>\n",
       "      <td>debt collection lvnv funding llc dated appeare...</td>\n",
       "    </tr>\n",
       "    <tr>\n",
       "      <th>146402</th>\n",
       "      <td>146402</td>\n",
       "      <td>retail_banking</td>\n",
       "      <td>trying connect bank account easily able cash m...</td>\n",
       "    </tr>\n",
       "  </tbody>\n",
       "</table>\n",
       "</div>"
      ],
      "text/plain": [
       "        Unnamed: 0              product  \\\n",
       "2870          2870       retail_banking   \n",
       "79989        79989       retail_banking   \n",
       "121384      121384          credit_card   \n",
       "33285        33285  mortgages_and_loans   \n",
       "149784      149784       retail_banking   \n",
       "122664      122664     credit_reporting   \n",
       "17164        17164     credit_reporting   \n",
       "98505        98505          credit_card   \n",
       "1734          1734     credit_reporting   \n",
       "146402      146402       retail_banking   \n",
       "\n",
       "                                                narrative  \n",
       "2870    account closed chase via phone account service...  \n",
       "79989   customer bank switched pnc investing wanted pn...  \n",
       "121384  received usbank reliacard upon research indica...  \n",
       "33285   writing regarding timely processing disburseme...  \n",
       "149784  happened bank purchased bunk bed child receive...  \n",
       "122664  request free annual credit report believe cons...  \n",
       "17164   easter account service reporting fraudulent ac...  \n",
       "98505   separated continued share finance assist raisi...  \n",
       "1734    debt collection lvnv funding llc dated appeare...  \n",
       "146402  trying connect bank account easily able cash m...  "
      ]
     },
     "execution_count": 112,
     "metadata": {},
     "output_type": "execute_result"
    }
   ],
   "source": [
    "df.sample(10)"
   ]
  },
  {
   "cell_type": "code",
   "execution_count": 113,
   "id": "0de5824d",
   "metadata": {},
   "outputs": [],
   "source": [
    "df = df[['product', 'narrative']]"
   ]
  },
  {
   "cell_type": "code",
   "execution_count": 114,
   "id": "def6f0e5",
   "metadata": {},
   "outputs": [
    {
     "data": {
      "text/html": [
       "<div>\n",
       "<style scoped>\n",
       "    .dataframe tbody tr th:only-of-type {\n",
       "        vertical-align: middle;\n",
       "    }\n",
       "\n",
       "    .dataframe tbody tr th {\n",
       "        vertical-align: top;\n",
       "    }\n",
       "\n",
       "    .dataframe thead th {\n",
       "        text-align: right;\n",
       "    }\n",
       "</style>\n",
       "<table border=\"1\" class=\"dataframe\">\n",
       "  <thead>\n",
       "    <tr style=\"text-align: right;\">\n",
       "      <th></th>\n",
       "      <th>product</th>\n",
       "      <th>narrative</th>\n",
       "    </tr>\n",
       "  </thead>\n",
       "  <tbody>\n",
       "    <tr>\n",
       "      <th>52684</th>\n",
       "      <td>credit_reporting</td>\n",
       "      <td>trying get updated info year long one item cre...</td>\n",
       "    </tr>\n",
       "    <tr>\n",
       "      <th>160635</th>\n",
       "      <td>credit_reporting</td>\n",
       "      <td>mi last name date birth transunion consumer so...</td>\n",
       "    </tr>\n",
       "    <tr>\n",
       "      <th>124138</th>\n",
       "      <td>credit_reporting</td>\n",
       "      <td>since battled credit bureau remove correct sta...</td>\n",
       "    </tr>\n",
       "    <tr>\n",
       "      <th>153887</th>\n",
       "      <td>credit_reporting</td>\n",
       "      <td>transunion reporting day late partial account ...</td>\n",
       "    </tr>\n",
       "    <tr>\n",
       "      <th>160785</th>\n",
       "      <td>credit_reporting</td>\n",
       "      <td>xxxxdispute xxxxdispute xxxxdispute xxxxdisput...</td>\n",
       "    </tr>\n",
       "  </tbody>\n",
       "</table>\n",
       "</div>"
      ],
      "text/plain": [
       "                 product                                          narrative\n",
       "52684   credit_reporting  trying get updated info year long one item cre...\n",
       "160635  credit_reporting  mi last name date birth transunion consumer so...\n",
       "124138  credit_reporting  since battled credit bureau remove correct sta...\n",
       "153887  credit_reporting  transunion reporting day late partial account ...\n",
       "160785  credit_reporting  xxxxdispute xxxxdispute xxxxdispute xxxxdisput..."
      ]
     },
     "execution_count": 114,
     "metadata": {},
     "output_type": "execute_result"
    }
   ],
   "source": [
    "df.head()"
   ]
  },
  {
   "cell_type": "code",
   "execution_count": 115,
   "id": "de70a864",
   "metadata": {},
   "outputs": [],
   "source": [
    "df['product_map_value'] = df['product'].map({\n",
    "    'credit_reporting' : 0,       \n",
    "    'debt_collection' : 1,     \n",
    "    'mortgages_and_loans' : 2,    \n",
    "    'credit_card' : 3,  \n",
    "    'retail_banking' : 4,\n",
    "})"
   ]
  },
  {
   "cell_type": "code",
   "execution_count": 116,
   "id": "c9430f91",
   "metadata": {
    "scrolled": true
   },
   "outputs": [
    {
     "data": {
      "text/plain": [
       "product              0\n",
       "narrative            5\n",
       "product_map_value    0\n",
       "dtype: int64"
      ]
     },
     "execution_count": 116,
     "metadata": {},
     "output_type": "execute_result"
    }
   ],
   "source": [
    "df.isna().sum()"
   ]
  },
  {
   "cell_type": "code",
   "execution_count": 117,
   "id": "ff2503b5",
   "metadata": {
    "scrolled": true
   },
   "outputs": [],
   "source": [
    "df = df.dropna()"
   ]
  },
  {
   "cell_type": "code",
   "execution_count": 118,
   "id": "66b6ae8d",
   "metadata": {},
   "outputs": [
    {
     "data": {
      "text/plain": [
       "product              0\n",
       "narrative            0\n",
       "product_map_value    0\n",
       "dtype: int64"
      ]
     },
     "execution_count": 118,
     "metadata": {},
     "output_type": "execute_result"
    }
   ],
   "source": [
    "df.isna().sum()"
   ]
  },
  {
   "cell_type": "code",
   "execution_count": 119,
   "id": "53858578",
   "metadata": {},
   "outputs": [
    {
     "data": {
      "text/html": [
       "<div>\n",
       "<style scoped>\n",
       "    .dataframe tbody tr th:only-of-type {\n",
       "        vertical-align: middle;\n",
       "    }\n",
       "\n",
       "    .dataframe tbody tr th {\n",
       "        vertical-align: top;\n",
       "    }\n",
       "\n",
       "    .dataframe thead th {\n",
       "        text-align: right;\n",
       "    }\n",
       "</style>\n",
       "<table border=\"1\" class=\"dataframe\">\n",
       "  <thead>\n",
       "    <tr style=\"text-align: right;\">\n",
       "      <th></th>\n",
       "      <th>product</th>\n",
       "      <th>narrative</th>\n",
       "      <th>product_map_value</th>\n",
       "    </tr>\n",
       "  </thead>\n",
       "  <tbody>\n",
       "    <tr>\n",
       "      <th>40650</th>\n",
       "      <td>retail_banking</td>\n",
       "      <td>explain right government grant scam authorized...</td>\n",
       "      <td>4</td>\n",
       "    </tr>\n",
       "    <tr>\n",
       "      <th>111046</th>\n",
       "      <td>credit_card</td>\n",
       "      <td>made purchase paypal using mastercard debit ca...</td>\n",
       "      <td>3</td>\n",
       "    </tr>\n",
       "    <tr>\n",
       "      <th>139087</th>\n",
       "      <td>retail_banking</td>\n",
       "      <td>sba loan thats granted told sba agent use payp...</td>\n",
       "      <td>4</td>\n",
       "    </tr>\n",
       "    <tr>\n",
       "      <th>137594</th>\n",
       "      <td>credit_card</td>\n",
       "      <td>complaint regard chase closing credit account ...</td>\n",
       "      <td>3</td>\n",
       "    </tr>\n",
       "    <tr>\n",
       "      <th>13579</th>\n",
       "      <td>credit_card</td>\n",
       "      <td>credit card continues bill merchandise purchas...</td>\n",
       "      <td>3</td>\n",
       "    </tr>\n",
       "    <tr>\n",
       "      <th>92604</th>\n",
       "      <td>debt_collection</td>\n",
       "      <td>ive victim identity theft since paying debt is...</td>\n",
       "      <td>1</td>\n",
       "    </tr>\n",
       "    <tr>\n",
       "      <th>70915</th>\n",
       "      <td>debt_collection</td>\n",
       "      <td>received letter chase credit card account endi...</td>\n",
       "      <td>1</td>\n",
       "    </tr>\n",
       "    <tr>\n",
       "      <th>6226</th>\n",
       "      <td>mortgages_and_loans</td>\n",
       "      <td>american credit acceptance make extremely hard...</td>\n",
       "      <td>2</td>\n",
       "    </tr>\n",
       "    <tr>\n",
       "      <th>130730</th>\n",
       "      <td>retail_banking</td>\n",
       "      <td>previous choice system applicable happened spo...</td>\n",
       "      <td>4</td>\n",
       "    </tr>\n",
       "    <tr>\n",
       "      <th>80124</th>\n",
       "      <td>retail_banking</td>\n",
       "      <td>victim identity theft checking account fraudul...</td>\n",
       "      <td>4</td>\n",
       "    </tr>\n",
       "  </tbody>\n",
       "</table>\n",
       "</div>"
      ],
      "text/plain": [
       "                    product  \\\n",
       "40650        retail_banking   \n",
       "111046          credit_card   \n",
       "139087       retail_banking   \n",
       "137594          credit_card   \n",
       "13579           credit_card   \n",
       "92604       debt_collection   \n",
       "70915       debt_collection   \n",
       "6226    mortgages_and_loans   \n",
       "130730       retail_banking   \n",
       "80124        retail_banking   \n",
       "\n",
       "                                                narrative  product_map_value  \n",
       "40650   explain right government grant scam authorized...                  4  \n",
       "111046  made purchase paypal using mastercard debit ca...                  3  \n",
       "139087  sba loan thats granted told sba agent use payp...                  4  \n",
       "137594  complaint regard chase closing credit account ...                  3  \n",
       "13579   credit card continues bill merchandise purchas...                  3  \n",
       "92604   ive victim identity theft since paying debt is...                  1  \n",
       "70915   received letter chase credit card account endi...                  1  \n",
       "6226    american credit acceptance make extremely hard...                  2  \n",
       "130730  previous choice system applicable happened spo...                  4  \n",
       "80124   victim identity theft checking account fraudul...                  4  "
      ]
     },
     "execution_count": 119,
     "metadata": {},
     "output_type": "execute_result"
    }
   ],
   "source": [
    "df.sample(10)"
   ]
  },
  {
   "cell_type": "code",
   "execution_count": 152,
   "id": "78047960",
   "metadata": {},
   "outputs": [],
   "source": [
    "X_train, X_test, Y_train, Y_test = train_test_split(df.narrative, df.product_map_value, \n",
    "                                                    test_size = 0.2, \n",
    "                                                    random_state = 150, \n",
    "                                                    stratify=df.product_map_value,\n",
    "                                                    shuffle = True)"
   ]
  },
  {
   "cell_type": "code",
   "execution_count": 153,
   "id": "7ee809f5",
   "metadata": {},
   "outputs": [
    {
     "name": "stdout",
     "output_type": "stream",
     "text": [
      "X_train Shape:- (54140,)\n",
      "X_test Shape:- (13535,)\n"
     ]
    }
   ],
   "source": [
    "print(f'X_train Shape:- {X_train.shape}')\n",
    "print(f'X_test Shape:- {X_test.shape}')"
   ]
  },
  {
   "cell_type": "code",
   "execution_count": 154,
   "id": "03596531",
   "metadata": {},
   "outputs": [],
   "source": [
    "pipe = Pipeline([\n",
    "    ('TF', TfidfVectorizer()),\n",
    "    ('KNN', KNeighborsClassifier())\n",
    "])"
   ]
  },
  {
   "cell_type": "code",
   "execution_count": 155,
   "id": "d305f3cf",
   "metadata": {},
   "outputs": [
    {
     "data": {
      "text/plain": [
       "Pipeline(steps=[('TF', TfidfVectorizer()), ('KNN', KNeighborsClassifier())])"
      ]
     },
     "execution_count": 155,
     "metadata": {},
     "output_type": "execute_result"
    }
   ],
   "source": [
    "pipe.fit(X_train, Y_train)"
   ]
  },
  {
   "cell_type": "code",
   "execution_count": 156,
   "id": "8fd58250",
   "metadata": {},
   "outputs": [
    {
     "name": "stdout",
     "output_type": "stream",
     "text": [
      "              precision    recall  f1-score   support\n",
      "\n",
      "           0       0.84      0.73      0.78      3122\n",
      "           1       0.72      0.81      0.76      2429\n",
      "           2       0.79      0.82      0.80      2580\n",
      "           3       0.76      0.75      0.76      2742\n",
      "           4       0.82      0.83      0.82      2662\n",
      "\n",
      "    accuracy                           0.78     13535\n",
      "   macro avg       0.78      0.79      0.78     13535\n",
      "weighted avg       0.79      0.78      0.78     13535\n",
      "\n"
     ]
    }
   ],
   "source": [
    "Y_pred = pipe.predict(X_test)\n",
    "\n",
    "print(classification_report(Y_pred, Y_test))"
   ]
  },
  {
   "cell_type": "code",
   "execution_count": 157,
   "id": "1f7829f4",
   "metadata": {},
   "outputs": [
    {
     "data": {
      "text/plain": [
       "10178              ca connect also used work like month ago\n",
       "34096     writing today regard account kia motor finance...\n",
       "101143    name date birth social reached regard account ...\n",
       "55606     filed dispute regard incorrect item credit rep...\n",
       "55012     disputed account reached many time failed acco...\n",
       "29675     busy schedule noticed certain debit charge acc...\n",
       "113693    received credit monitoring alert collection ag...\n",
       "144766    whomever may concern first foremost submitting...\n",
       "90951     received offer upgrade hsbc choice checking ac...\n",
       "93122     using month since use feature called take rema...\n",
       "Name: narrative, dtype: object"
      ]
     },
     "execution_count": 157,
     "metadata": {},
     "output_type": "execute_result"
    }
   ],
   "source": [
    "X_test[:10]"
   ]
  },
  {
   "cell_type": "code",
   "execution_count": 158,
   "id": "c5f5a1bf",
   "metadata": {},
   "outputs": [
    {
     "name": "stdout",
     "output_type": "stream",
     "text": [
      "10178     4\n",
      "34096     2\n",
      "101143    1\n",
      "55606     0\n",
      "55012     1\n",
      "29675     4\n",
      "113693    1\n",
      "144766    1\n",
      "90951     4\n",
      "93122     4\n",
      "Name: product_map_value, dtype: int64\n",
      "\n",
      "credit_reporting' : 0 | debt_collection' : 1 | mortgages_and_loans' : 2 | credit_card' : 3 | retail_banking' : 4,\n"
     ]
    }
   ],
   "source": [
    "print(Y_test[:10])\n",
    "print('')\n",
    "print('''credit_reporting' : 0 | debt_collection' : 1 | mortgages_and_loans' : 2 | credit_card' : 3 | retail_banking' : 4,''')"
   ]
  },
  {
   "cell_type": "code",
   "execution_count": 159,
   "id": "e372276d",
   "metadata": {},
   "outputs": [
    {
     "data": {
      "text/plain": [
       "array([4, 3, 1, 0, 1, 3, 1, 1, 4, 4], dtype=int64)"
      ]
     },
     "execution_count": 159,
     "metadata": {},
     "output_type": "execute_result"
    }
   ],
   "source": [
    "Y_pred[:10]"
   ]
  },
  {
   "cell_type": "code",
   "execution_count": null,
   "id": "f781f33c",
   "metadata": {},
   "outputs": [],
   "source": []
  }
 ],
 "metadata": {
  "kernelspec": {
   "display_name": "Python 3 (ipykernel)",
   "language": "python",
   "name": "python3"
  },
  "language_info": {
   "codemirror_mode": {
    "name": "ipython",
    "version": 3
   },
   "file_extension": ".py",
   "mimetype": "text/x-python",
   "name": "python",
   "nbconvert_exporter": "python",
   "pygments_lexer": "ipython3",
   "version": "3.9.7"
  }
 },
 "nbformat": 4,
 "nbformat_minor": 5
}
