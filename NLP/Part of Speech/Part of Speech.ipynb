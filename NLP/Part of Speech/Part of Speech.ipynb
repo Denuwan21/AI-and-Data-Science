{
 "cells": [
  {
   "cell_type": "code",
   "execution_count": 2,
   "id": "881c05ee",
   "metadata": {},
   "outputs": [],
   "source": [
    "import spacy as sp"
   ]
  },
  {
   "cell_type": "code",
   "execution_count": 3,
   "id": "b3a7126a",
   "metadata": {},
   "outputs": [],
   "source": [
    "nlp = sp.load('en_core_web_sm')"
   ]
  },
  {
   "cell_type": "code",
   "execution_count": 10,
   "id": "483d4f98",
   "metadata": {},
   "outputs": [
    {
     "data": {
      "text/plain": [
       "['tok2vec', 'tagger', 'parser', 'attribute_ruler', 'lemmatizer', 'ner']"
      ]
     },
     "execution_count": 10,
     "metadata": {},
     "output_type": "execute_result"
    }
   ],
   "source": [
    "nlp.pipe_names"
   ]
  },
  {
   "cell_type": "code",
   "execution_count": 4,
   "id": "0980753f",
   "metadata": {},
   "outputs": [],
   "source": [
    "doc = nlp('Elon flew to marsk yesterday. He carreid biriyani masala with him')"
   ]
  },
  {
   "cell_type": "code",
   "execution_count": 12,
   "id": "28f475b6",
   "metadata": {},
   "outputs": [
    {
     "name": "stdout",
     "output_type": "stream",
     "text": [
      "Elon  |  PROPN  |  proper noun  |  NNP  |  noun, proper singular\n",
      "flew  |  VERB  |  verb  |  VBD  |  verb, past tense\n",
      "to  |  ADP  |  adposition  |  IN  |  conjunction, subordinating or preposition\n",
      "marsk  |  NOUN  |  noun  |  NNS  |  noun, plural\n",
      "yesterday  |  NOUN  |  noun  |  NN  |  noun, singular or mass\n",
      ".  |  PUNCT  |  punctuation  |  .  |  punctuation mark, sentence closer\n",
      "He  |  PRON  |  pronoun  |  PRP  |  pronoun, personal\n",
      "carreid  |  VERB  |  verb  |  VBZ  |  verb, 3rd person singular present\n",
      "biriyani  |  PROPN  |  proper noun  |  NNP  |  noun, proper singular\n",
      "masala  |  PROPN  |  proper noun  |  NNP  |  noun, proper singular\n",
      "with  |  ADP  |  adposition  |  IN  |  conjunction, subordinating or preposition\n",
      "him  |  PRON  |  pronoun  |  PRP  |  pronoun, personal\n"
     ]
    }
   ],
   "source": [
    "for token in doc:\n",
    "    print(token, ' | ', token.pos_, ' | ', sp.explain(token.pos_), ' | ', token.tag_, ' | ', sp.explain(token.tag_),)"
   ]
  },
  {
   "cell_type": "code",
   "execution_count": 18,
   "id": "33541581",
   "metadata": {},
   "outputs": [],
   "source": [
    "doc_2 = nlp('''Microsoft Corp. today announced the following results for the quarter ended March 31, 2024, as compared to the corresponding period of last fiscal year:\n",
    "\n",
    "·        Revenue was $61.9 billion and increased 17%\n",
    "\n",
    "·        Operating income was $27.6 billion and increased 23%\n",
    "\n",
    "·        Net income was $21.9 billion and increased 20%\n",
    "\n",
    "·        Diluted earnings per share was $2.94 and increased 20%\n",
    "\n",
    "“Microsoft Copilot and Copilot stack are orchestrating a new era of AI transformation, driving better business outcomes across every role and industry,\" said Satya Nadella, chairman and chief executive officer of Microsoft etc.\n",
    "\n",
    "“This quarter Microsoft Cloud revenue was $35.1 billion, up 23% year-over-year, driven by strong execution by our sales teams and partners,” said Amy Hood, executive vice president and chief financial officer of Microsoft.''')"
   ]
  },
  {
   "cell_type": "code",
   "execution_count": 29,
   "id": "b02a6ef0",
   "metadata": {
    "collapsed": true
   },
   "outputs": [
    {
     "name": "stdout",
     "output_type": "stream",
     "text": [
      "Microsoft\n",
      "Corp.\n",
      "today\n",
      "announced\n",
      "the\n",
      "following\n",
      "results\n",
      "for\n",
      "the\n",
      "quarter\n",
      "ended\n",
      "March\n",
      "31\n",
      ",\n",
      "2024\n",
      ",\n",
      "as\n",
      "compared\n",
      "to\n",
      "the\n",
      "corresponding\n",
      "period\n",
      "of\n",
      "last\n",
      "fiscal\n",
      "year\n",
      ":\n",
      "\n",
      "\n",
      "\n",
      "·\n",
      "       \n",
      "Revenue\n",
      "was\n",
      "$\n",
      "61.9\n",
      "billion\n",
      "and\n",
      "increased\n",
      "17\n",
      "%\n",
      "\n",
      "\n",
      "\n",
      "·\n",
      "       \n",
      "Operating\n",
      "income\n",
      "was\n",
      "$\n",
      "27.6\n",
      "billion\n",
      "and\n",
      "increased\n",
      "23\n",
      "%\n",
      "\n",
      "\n",
      "\n",
      "·\n",
      "       \n",
      "Net\n",
      "income\n",
      "was\n",
      "$\n",
      "21.9\n",
      "billion\n",
      "and\n",
      "increased\n",
      "20\n",
      "%\n",
      "\n",
      "\n",
      "\n",
      "·\n",
      "       \n",
      "Diluted\n",
      "earnings\n",
      "per\n",
      "share\n",
      "was\n",
      "$\n",
      "2.94\n",
      "and\n",
      "increased\n",
      "20\n",
      "%\n",
      "\n",
      "\n",
      "\n",
      "“\n",
      "Microsoft\n",
      "Copilot\n",
      "and\n",
      "Copilot\n",
      "stack\n",
      "are\n",
      "orchestrating\n",
      "a\n",
      "new\n",
      "era\n",
      "of\n",
      "AI\n",
      "transformation\n",
      ",\n",
      "driving\n",
      "better\n",
      "business\n",
      "outcomes\n",
      "across\n",
      "every\n",
      "role\n",
      "and\n",
      "industry\n",
      ",\n",
      "\"\n",
      "said\n",
      "Satya\n",
      "Nadella\n",
      ",\n",
      "chairman\n",
      "and\n",
      "chief\n",
      "executive\n",
      "officer\n",
      "of\n",
      "Microsoft\n",
      "etc\n",
      ".\n",
      "\n",
      "\n",
      "\n",
      "“\n",
      "This\n",
      "quarter\n",
      "Microsoft\n",
      "Cloud\n",
      "revenue\n",
      "was\n",
      "$\n",
      "35.1\n",
      "billion\n",
      ",\n",
      "up\n",
      "23\n",
      "%\n",
      "year\n",
      "-\n",
      "over\n",
      "-\n",
      "year\n",
      ",\n",
      "driven\n",
      "by\n",
      "strong\n",
      "execution\n",
      "by\n",
      "our\n",
      "sales\n",
      "teams\n",
      "and\n",
      "partners\n",
      ",\n",
      "”\n",
      "said\n",
      "Amy\n",
      "Hood\n",
      ",\n",
      "executive\n",
      "vice\n",
      "president\n",
      "and\n",
      "chief\n",
      "financial\n",
      "officer\n",
      "of\n",
      "Microsoft\n",
      ".\n"
     ]
    }
   ],
   "source": [
    "for token in doc_2:\n",
    "    print(token)"
   ]
  },
  {
   "cell_type": "code",
   "execution_count": 30,
   "id": "6abb58e0",
   "metadata": {
    "scrolled": true
   },
   "outputs": [],
   "source": [
    "token_filter = []\n",
    "for token in doc_2:\n",
    "    if token.pos_ not in ['PUNCT', 'SPACE', 'X']:\n",
    "        token_filter.append(token)"
   ]
  },
  {
   "cell_type": "code",
   "execution_count": 32,
   "id": "c1f955a1",
   "metadata": {},
   "outputs": [
    {
     "name": "stdout",
     "output_type": "stream",
     "text": [
      "[Microsoft, Corp., today, announced, the, following, results, for, the, quarter, ended, March, 31, 2024, as, compared, to, the, corresponding, period, of, last, fiscal, year, Revenue, was, $, 61.9, billion, and, increased, 17, %, Operating, income, was, $, 27.6, billion, and, increased, 23, %, Net, income, was, $, 21.9, billion, and, increased, 20, %, Diluted, earnings, per, share, was, $, 2.94, and, increased, 20, %, Microsoft, Copilot, and, Copilot, stack, are, orchestrating, a, new, era, of, AI, transformation, driving, better, business, outcomes, across, every, role, and, industry, said, Satya, Nadella, chairman, and, chief, executive, officer, of, Microsoft, This, quarter, Microsoft, Cloud, revenue, was, $, 35.1, billion, up, 23, %, year, over, year, driven, by, strong, execution, by, our, sales, teams, and, partners, said, Amy, Hood, executive, vice, president, and, chief, financial, officer, of, Microsoft]\n"
     ]
    }
   ],
   "source": [
    "print(token_filter)"
   ]
  },
  {
   "cell_type": "code",
   "execution_count": 33,
   "id": "bd122b6b",
   "metadata": {},
   "outputs": [
    {
     "data": {
      "text/plain": [
       "{96: 14,\n",
       " 92: 36,\n",
       " 100: 15,\n",
       " 90: 6,\n",
       " 85: 11,\n",
       " 93: 16,\n",
       " 97: 21,\n",
       " 98: 1,\n",
       " 84: 12,\n",
       " 103: 10,\n",
       " 87: 6,\n",
       " 99: 5,\n",
       " 89: 9,\n",
       " 101: 2,\n",
       " 86: 1,\n",
       " 95: 1}"
      ]
     },
     "execution_count": 33,
     "metadata": {},
     "output_type": "execute_result"
    }
   ],
   "source": [
    "word_count = doc_2.count_by(sp.attrs.POS)\n",
    "word_count"
   ]
  },
  {
   "cell_type": "code",
   "execution_count": 40,
   "id": "babb98ea",
   "metadata": {},
   "outputs": [
    {
     "data": {
      "text/plain": [
       "'PROPN'"
      ]
     },
     "execution_count": 40,
     "metadata": {},
     "output_type": "execute_result"
    }
   ],
   "source": [
    "doc_2.vocab[96].text"
   ]
  },
  {
   "cell_type": "code",
   "execution_count": null,
   "id": "0267b33b",
   "metadata": {},
   "outputs": [],
   "source": []
  }
 ],
 "metadata": {
  "kernelspec": {
   "display_name": "Python 3 (ipykernel)",
   "language": "python",
   "name": "python3"
  },
  "language_info": {
   "codemirror_mode": {
    "name": "ipython",
    "version": 3
   },
   "file_extension": ".py",
   "mimetype": "text/x-python",
   "name": "python",
   "nbconvert_exporter": "python",
   "pygments_lexer": "ipython3",
   "version": "3.9.7"
  }
 },
 "nbformat": 4,
 "nbformat_minor": 5
}
