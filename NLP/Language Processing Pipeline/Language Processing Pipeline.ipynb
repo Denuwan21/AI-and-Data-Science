{
 "cells": [
  {
   "cell_type": "code",
   "execution_count": 1,
   "id": "9abfbfa7",
   "metadata": {},
   "outputs": [],
   "source": [
    "import spacy as sp"
   ]
  },
  {
   "cell_type": "code",
   "execution_count": 7,
   "id": "bbabf01d",
   "metadata": {},
   "outputs": [],
   "source": [
    "nlp = sp.load('en_core_web_sm')"
   ]
  },
  {
   "cell_type": "code",
   "execution_count": 10,
   "id": "2f1f2df6",
   "metadata": {},
   "outputs": [],
   "source": [
    "doc = nlp('''Sri Lanka historically known as Ceylon and officially the Democratic Socialist Republic of Sri Lanka, is an island country in South Asia. It lies in the Indian Ocean, southwest of the Bay of Bengal, separated from the Indian peninsula by the Gulf of Mannar and the Palk Strait. It shares a maritime border with the Maldives in the southwest and India in the northwest.''')"
   ]
  },
  {
   "cell_type": "code",
   "execution_count": 19,
   "id": "981bd89a",
   "metadata": {},
   "outputs": [
    {
     "data": {
      "text/plain": [
       "['tok2vec', 'tagger', 'parser', 'attribute_ruler', 'lemmatizer', 'ner']"
      ]
     },
     "execution_count": 19,
     "metadata": {},
     "output_type": "execute_result"
    }
   ],
   "source": [
    "nlp.pipe_names"
   ]
  },
  {
   "cell_type": "code",
   "execution_count": 21,
   "id": "fc53d6dd",
   "metadata": {},
   "outputs": [
    {
     "name": "stdout",
     "output_type": "stream",
     "text": [
      "Sri,    |    PROPN    |     Sri\n",
      "Lanka,    |    PROPN    |     Lanka\n",
      "historically,    |    ADV    |     historically\n",
      "known,    |    VERB    |     know\n",
      "as,    |    ADP    |     as\n",
      "Ceylon,    |    PROPN    |     Ceylon\n",
      "and,    |    CCONJ    |     and\n",
      "officially,    |    ADV    |     officially\n",
      "the,    |    DET    |     the\n",
      "Democratic,    |    PROPN    |     Democratic\n",
      "Socialist,    |    PROPN    |     Socialist\n",
      "Republic,    |    PROPN    |     Republic\n",
      "of,    |    ADP    |     of\n",
      "Sri,    |    PROPN    |     Sri\n",
      "Lanka,    |    PROPN    |     Lanka\n",
      ",,    |    PUNCT    |     ,\n",
      "is,    |    AUX    |     be\n",
      "an,    |    DET    |     an\n",
      "island,    |    NOUN    |     island\n",
      "country,    |    NOUN    |     country\n",
      "in,    |    ADP    |     in\n",
      "South,    |    PROPN    |     South\n",
      "Asia,    |    PROPN    |     Asia\n",
      ".,    |    PUNCT    |     .\n",
      "It,    |    PRON    |     it\n",
      "lies,    |    VERB    |     lie\n",
      "in,    |    ADP    |     in\n",
      "the,    |    DET    |     the\n",
      "Indian,    |    PROPN    |     Indian\n",
      "Ocean,    |    PROPN    |     Ocean\n",
      ",,    |    PUNCT    |     ,\n",
      "southwest,    |    NOUN    |     southwest\n",
      "of,    |    ADP    |     of\n",
      "the,    |    DET    |     the\n",
      "Bay,    |    PROPN    |     Bay\n",
      "of,    |    ADP    |     of\n",
      "Bengal,    |    PROPN    |     Bengal\n",
      ",,    |    PUNCT    |     ,\n",
      "separated,    |    VERB    |     separate\n",
      "from,    |    ADP    |     from\n",
      "the,    |    DET    |     the\n",
      "Indian,    |    ADJ    |     indian\n",
      "peninsula,    |    NOUN    |     peninsula\n",
      "by,    |    ADP    |     by\n",
      "the,    |    DET    |     the\n",
      "Gulf,    |    PROPN    |     Gulf\n",
      "of,    |    ADP    |     of\n",
      "Mannar,    |    PROPN    |     Mannar\n",
      "and,    |    CCONJ    |     and\n",
      "the,    |    DET    |     the\n",
      "Palk,    |    PROPN    |     Palk\n",
      "Strait,    |    PROPN    |     Strait\n",
      ".,    |    PUNCT    |     .\n",
      "It,    |    PRON    |     it\n",
      "shares,    |    VERB    |     share\n",
      "a,    |    DET    |     a\n",
      "maritime,    |    ADJ    |     maritime\n",
      "border,    |    NOUN    |     border\n",
      "with,    |    ADP    |     with\n",
      "the,    |    DET    |     the\n",
      "Maldives,    |    PROPN    |     Maldives\n",
      "in,    |    ADP    |     in\n",
      "the,    |    DET    |     the\n",
      "southwest,    |    NOUN    |     southwest\n",
      "and,    |    CCONJ    |     and\n",
      "India,    |    PROPN    |     India\n",
      "in,    |    ADP    |     in\n",
      "the,    |    DET    |     the\n",
      "northwest,    |    NOUN    |     northwest\n",
      ".,    |    PUNCT    |     .\n"
     ]
    }
   ],
   "source": [
    "for token in doc:\n",
    "    print(f\"{token.text},    |    {token.pos_}    |     {token.lemma_}\")"
   ]
  },
  {
   "cell_type": "code",
   "execution_count": null,
   "id": "6ecc380e",
   "metadata": {},
   "outputs": [],
   "source": []
  },
  {
   "cell_type": "code",
   "execution_count": null,
   "id": "297ccfd1",
   "metadata": {},
   "outputs": [],
   "source": []
  }
 ],
 "metadata": {
  "kernelspec": {
   "display_name": "Python 3 (ipykernel)",
   "language": "python",
   "name": "python3"
  },
  "language_info": {
   "codemirror_mode": {
    "name": "ipython",
    "version": 3
   },
   "file_extension": ".py",
   "mimetype": "text/x-python",
   "name": "python",
   "nbconvert_exporter": "python",
   "pygments_lexer": "ipython3",
   "version": "3.9.7"
  }
 },
 "nbformat": 4,
 "nbformat_minor": 5
}
