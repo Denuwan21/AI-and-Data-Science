{
 "cells": [
  {
   "cell_type": "code",
   "execution_count": 12,
   "id": "01d86953",
   "metadata": {},
   "outputs": [],
   "source": [
    "import pandas as pd\n",
    "import spacy as sp\n",
    "from sklearn.feature_extraction.text import CountVectorizer\n",
    "from sklearn.metrics import classification_report\n",
    "from sklearn.pipeline import Pipeline\n",
    "from sklearn.naive_bayes import MultinomialNB\n",
    "from sklearn.ensemble import RandomForestClassifier\n",
    "from sklearn.tree import DecisionTreeClassifier\n",
    "from sklearn.svm import SVC\n",
    "from sklearn.neighbors import KNeighborsClassifier\n",
    "from sklearn.model_selection import train_test_split"
   ]
  },
  {
   "cell_type": "code",
   "execution_count": 13,
   "id": "d166e8d4",
   "metadata": {},
   "outputs": [],
   "source": [
    "df_1 = pd.read_csv('Fake.csv')\n",
    "df_2 = pd.read_csv('True.csv')"
   ]
  },
  {
   "cell_type": "code",
   "execution_count": 14,
   "id": "be2a4ad9",
   "metadata": {
    "scrolled": true
   },
   "outputs": [
    {
     "data": {
      "text/html": [
       "<div>\n",
       "<style scoped>\n",
       "    .dataframe tbody tr th:only-of-type {\n",
       "        vertical-align: middle;\n",
       "    }\n",
       "\n",
       "    .dataframe tbody tr th {\n",
       "        vertical-align: top;\n",
       "    }\n",
       "\n",
       "    .dataframe thead th {\n",
       "        text-align: right;\n",
       "    }\n",
       "</style>\n",
       "<table border=\"1\" class=\"dataframe\">\n",
       "  <thead>\n",
       "    <tr style=\"text-align: right;\">\n",
       "      <th></th>\n",
       "      <th>title</th>\n",
       "      <th>text</th>\n",
       "      <th>subject</th>\n",
       "      <th>date</th>\n",
       "      <th>status</th>\n",
       "    </tr>\n",
       "  </thead>\n",
       "  <tbody>\n",
       "    <tr>\n",
       "      <th>0</th>\n",
       "      <td>As U.S. budget fight looms, Republicans flip t...</td>\n",
       "      <td>WASHINGTON (Reuters) - The head of a conservat...</td>\n",
       "      <td>politicsNews</td>\n",
       "      <td>December 31, 2017</td>\n",
       "      <td>True</td>\n",
       "    </tr>\n",
       "    <tr>\n",
       "      <th>1</th>\n",
       "      <td>U.S. military to accept transgender recruits o...</td>\n",
       "      <td>WASHINGTON (Reuters) - Transgender people will...</td>\n",
       "      <td>politicsNews</td>\n",
       "      <td>December 29, 2017</td>\n",
       "      <td>True</td>\n",
       "    </tr>\n",
       "    <tr>\n",
       "      <th>2</th>\n",
       "      <td>Senior U.S. Republican senator: 'Let Mr. Muell...</td>\n",
       "      <td>WASHINGTON (Reuters) - The special counsel inv...</td>\n",
       "      <td>politicsNews</td>\n",
       "      <td>December 31, 2017</td>\n",
       "      <td>True</td>\n",
       "    </tr>\n",
       "    <tr>\n",
       "      <th>3</th>\n",
       "      <td>FBI Russia probe helped by Australian diplomat...</td>\n",
       "      <td>WASHINGTON (Reuters) - Trump campaign adviser ...</td>\n",
       "      <td>politicsNews</td>\n",
       "      <td>December 30, 2017</td>\n",
       "      <td>True</td>\n",
       "    </tr>\n",
       "    <tr>\n",
       "      <th>4</th>\n",
       "      <td>Trump wants Postal Service to charge 'much mor...</td>\n",
       "      <td>SEATTLE/WASHINGTON (Reuters) - President Donal...</td>\n",
       "      <td>politicsNews</td>\n",
       "      <td>December 29, 2017</td>\n",
       "      <td>True</td>\n",
       "    </tr>\n",
       "  </tbody>\n",
       "</table>\n",
       "</div>"
      ],
      "text/plain": [
       "                                               title  \\\n",
       "0  As U.S. budget fight looms, Republicans flip t...   \n",
       "1  U.S. military to accept transgender recruits o...   \n",
       "2  Senior U.S. Republican senator: 'Let Mr. Muell...   \n",
       "3  FBI Russia probe helped by Australian diplomat...   \n",
       "4  Trump wants Postal Service to charge 'much mor...   \n",
       "\n",
       "                                                text       subject  \\\n",
       "0  WASHINGTON (Reuters) - The head of a conservat...  politicsNews   \n",
       "1  WASHINGTON (Reuters) - Transgender people will...  politicsNews   \n",
       "2  WASHINGTON (Reuters) - The special counsel inv...  politicsNews   \n",
       "3  WASHINGTON (Reuters) - Trump campaign adviser ...  politicsNews   \n",
       "4  SEATTLE/WASHINGTON (Reuters) - President Donal...  politicsNews   \n",
       "\n",
       "                 date status  \n",
       "0  December 31, 2017    True  \n",
       "1  December 29, 2017    True  \n",
       "2  December 31, 2017    True  \n",
       "3  December 30, 2017    True  \n",
       "4  December 29, 2017    True  "
      ]
     },
     "execution_count": 14,
     "metadata": {},
     "output_type": "execute_result"
    }
   ],
   "source": [
    "fake = 'Fake'\n",
    "df_1['status'] = fake\n",
    "\n",
    "\n",
    "true = 'True'\n",
    "df_2['status'] = true\n",
    "df_2.head()"
   ]
  },
  {
   "cell_type": "code",
   "execution_count": 15,
   "id": "d40fdaff",
   "metadata": {
    "scrolled": true
   },
   "outputs": [
    {
     "data": {
      "text/html": [
       "<div>\n",
       "<style scoped>\n",
       "    .dataframe tbody tr th:only-of-type {\n",
       "        vertical-align: middle;\n",
       "    }\n",
       "\n",
       "    .dataframe tbody tr th {\n",
       "        vertical-align: top;\n",
       "    }\n",
       "\n",
       "    .dataframe thead th {\n",
       "        text-align: right;\n",
       "    }\n",
       "</style>\n",
       "<table border=\"1\" class=\"dataframe\">\n",
       "  <thead>\n",
       "    <tr style=\"text-align: right;\">\n",
       "      <th></th>\n",
       "      <th>title</th>\n",
       "      <th>text</th>\n",
       "      <th>subject</th>\n",
       "      <th>date</th>\n",
       "      <th>status</th>\n",
       "    </tr>\n",
       "  </thead>\n",
       "  <tbody>\n",
       "    <tr>\n",
       "      <th>21412</th>\n",
       "      <td>'Fully committed' NATO backs new U.S. approach...</td>\n",
       "      <td>BRUSSELS (Reuters) - NATO allies on Tuesday we...</td>\n",
       "      <td>worldnews</td>\n",
       "      <td>August 22, 2017</td>\n",
       "      <td>True</td>\n",
       "    </tr>\n",
       "    <tr>\n",
       "      <th>21413</th>\n",
       "      <td>LexisNexis withdrew two products from Chinese ...</td>\n",
       "      <td>LONDON (Reuters) - LexisNexis, a provider of l...</td>\n",
       "      <td>worldnews</td>\n",
       "      <td>August 22, 2017</td>\n",
       "      <td>True</td>\n",
       "    </tr>\n",
       "    <tr>\n",
       "      <th>21414</th>\n",
       "      <td>Minsk cultural hub becomes haven from authorities</td>\n",
       "      <td>MINSK (Reuters) - In the shadow of disused Sov...</td>\n",
       "      <td>worldnews</td>\n",
       "      <td>August 22, 2017</td>\n",
       "      <td>True</td>\n",
       "    </tr>\n",
       "    <tr>\n",
       "      <th>21415</th>\n",
       "      <td>Vatican upbeat on possibility of Pope Francis ...</td>\n",
       "      <td>MOSCOW (Reuters) - Vatican Secretary of State ...</td>\n",
       "      <td>worldnews</td>\n",
       "      <td>August 22, 2017</td>\n",
       "      <td>True</td>\n",
       "    </tr>\n",
       "    <tr>\n",
       "      <th>21416</th>\n",
       "      <td>Indonesia to buy $1.14 billion worth of Russia...</td>\n",
       "      <td>JAKARTA (Reuters) - Indonesia will buy 11 Sukh...</td>\n",
       "      <td>worldnews</td>\n",
       "      <td>August 22, 2017</td>\n",
       "      <td>True</td>\n",
       "    </tr>\n",
       "  </tbody>\n",
       "</table>\n",
       "</div>"
      ],
      "text/plain": [
       "                                                   title  \\\n",
       "21412  'Fully committed' NATO backs new U.S. approach...   \n",
       "21413  LexisNexis withdrew two products from Chinese ...   \n",
       "21414  Minsk cultural hub becomes haven from authorities   \n",
       "21415  Vatican upbeat on possibility of Pope Francis ...   \n",
       "21416  Indonesia to buy $1.14 billion worth of Russia...   \n",
       "\n",
       "                                                    text    subject  \\\n",
       "21412  BRUSSELS (Reuters) - NATO allies on Tuesday we...  worldnews   \n",
       "21413  LONDON (Reuters) - LexisNexis, a provider of l...  worldnews   \n",
       "21414  MINSK (Reuters) - In the shadow of disused Sov...  worldnews   \n",
       "21415  MOSCOW (Reuters) - Vatican Secretary of State ...  worldnews   \n",
       "21416  JAKARTA (Reuters) - Indonesia will buy 11 Sukh...  worldnews   \n",
       "\n",
       "                   date status  \n",
       "21412  August 22, 2017    True  \n",
       "21413  August 22, 2017    True  \n",
       "21414  August 22, 2017    True  \n",
       "21415  August 22, 2017    True  \n",
       "21416  August 22, 2017    True  "
      ]
     },
     "execution_count": 15,
     "metadata": {},
     "output_type": "execute_result"
    }
   ],
   "source": [
    "tabels = [df_1, df_2]\n",
    "\n",
    "data_table = pd.concat(tabels, axis = 0)\n",
    "data_table.tail()"
   ]
  },
  {
   "cell_type": "code",
   "execution_count": 16,
   "id": "143f61a1",
   "metadata": {},
   "outputs": [
    {
     "data": {
      "text/plain": [
       "(44898, 5)"
      ]
     },
     "execution_count": 16,
     "metadata": {},
     "output_type": "execute_result"
    }
   ],
   "source": [
    "data_table.shape"
   ]
  },
  {
   "cell_type": "code",
   "execution_count": 17,
   "id": "37bd9aa4",
   "metadata": {},
   "outputs": [
    {
     "data": {
      "text/plain": [
       "status\n",
       "Fake    23481\n",
       "True    21417\n",
       "Name: count, dtype: int64"
      ]
     },
     "execution_count": 17,
     "metadata": {},
     "output_type": "execute_result"
    }
   ],
   "source": [
    "data_table.status.value_counts()"
   ]
  },
  {
   "cell_type": "code",
   "execution_count": 18,
   "id": "63e833b8",
   "metadata": {},
   "outputs": [],
   "source": [
    "min_value = 21417\n",
    "\n",
    "Fake = data_table[data_table.status == 'Fake'].sample(min_value, random_state = 100)\n",
    "Real = data_table[data_table.status == 'True'].sample(min_value, random_state = 100)\n"
   ]
  },
  {
   "cell_type": "code",
   "execution_count": 19,
   "id": "226ae5d9",
   "metadata": {},
   "outputs": [
    {
     "data": {
      "text/html": [
       "<div>\n",
       "<style scoped>\n",
       "    .dataframe tbody tr th:only-of-type {\n",
       "        vertical-align: middle;\n",
       "    }\n",
       "\n",
       "    .dataframe tbody tr th {\n",
       "        vertical-align: top;\n",
       "    }\n",
       "\n",
       "    .dataframe thead th {\n",
       "        text-align: right;\n",
       "    }\n",
       "</style>\n",
       "<table border=\"1\" class=\"dataframe\">\n",
       "  <thead>\n",
       "    <tr style=\"text-align: right;\">\n",
       "      <th></th>\n",
       "      <th>title</th>\n",
       "      <th>text</th>\n",
       "      <th>subject</th>\n",
       "      <th>date</th>\n",
       "      <th>status</th>\n",
       "    </tr>\n",
       "  </thead>\n",
       "  <tbody>\n",
       "    <tr>\n",
       "      <th>2341</th>\n",
       "      <td>House GOP Puts DISGUSTING Restriction On Who’...</td>\n",
       "      <td>Paul Ryan said that the House would implement ...</td>\n",
       "      <td>News</td>\n",
       "      <td>March 2, 2017</td>\n",
       "      <td>Fake</td>\n",
       "    </tr>\n",
       "    <tr>\n",
       "      <th>3322</th>\n",
       "      <td>Trump Supporter Unleashes EXPLOSIVE Racism On...</td>\n",
       "      <td>Now that Trump is officially going to be the n...</td>\n",
       "      <td>News</td>\n",
       "      <td>December 21, 2016</td>\n",
       "      <td>Fake</td>\n",
       "    </tr>\n",
       "    <tr>\n",
       "      <th>22639</th>\n",
       "      <td>Trump, Sanders Win Big In Michigan – Trump, Cl...</td>\n",
       "      <td>21st Century Wire says Rich men love to gamble...</td>\n",
       "      <td>US_News</td>\n",
       "      <td>March 8, 2016</td>\n",
       "      <td>Fake</td>\n",
       "    </tr>\n",
       "    <tr>\n",
       "      <th>14296</th>\n",
       "      <td>BREAKING…Internal Memo From OBAMA’S Corrupt EP...</td>\n",
       "      <td>Wow! Bernie and Hillary have been making hay o...</td>\n",
       "      <td>politics</td>\n",
       "      <td>Mar 15, 2016</td>\n",
       "      <td>Fake</td>\n",
       "    </tr>\n",
       "    <tr>\n",
       "      <th>22375</th>\n",
       "      <td>Amerika: ‘Tolerant’ University Educators Exile...</td>\n",
       "      <td>21st Century Wire says Since the late 1960 s, ...</td>\n",
       "      <td>US_News</td>\n",
       "      <td>November 15, 2016</td>\n",
       "      <td>Fake</td>\n",
       "    </tr>\n",
       "    <tr>\n",
       "      <th>...</th>\n",
       "      <td>...</td>\n",
       "      <td>...</td>\n",
       "      <td>...</td>\n",
       "      <td>...</td>\n",
       "      <td>...</td>\n",
       "    </tr>\n",
       "    <tr>\n",
       "      <th>16304</th>\n",
       "      <td>Hungary's Jobbik supports EU deepening with vo...</td>\n",
       "      <td>BUDAPEST (Reuters) - Hungary s main opposition...</td>\n",
       "      <td>worldnews</td>\n",
       "      <td>October 27, 2017</td>\n",
       "      <td>True</td>\n",
       "    </tr>\n",
       "    <tr>\n",
       "      <th>79</th>\n",
       "      <td>Trump aides hope win on taxes will stem slide ...</td>\n",
       "      <td>WASHINGTON (Reuters) - Near the end of Preside...</td>\n",
       "      <td>politicsNews</td>\n",
       "      <td>December 20, 2017</td>\n",
       "      <td>True</td>\n",
       "    </tr>\n",
       "    <tr>\n",
       "      <th>12119</th>\n",
       "      <td>South Africa's Zuma says influence-peddling in...</td>\n",
       "      <td>JOHANNESBURG (Reuters) - South African Preside...</td>\n",
       "      <td>worldnews</td>\n",
       "      <td>December 16, 2017</td>\n",
       "      <td>True</td>\n",
       "    </tr>\n",
       "    <tr>\n",
       "      <th>14147</th>\n",
       "      <td>Iran's Rouhani says foreign interference in Sy...</td>\n",
       "      <td>SOCHI, Russia (Reuters) - Iranian President Ha...</td>\n",
       "      <td>worldnews</td>\n",
       "      <td>November 22, 2017</td>\n",
       "      <td>True</td>\n",
       "    </tr>\n",
       "    <tr>\n",
       "      <th>5640</th>\n",
       "      <td>Kuwait denies it imposed travel ban praised by...</td>\n",
       "      <td>DUBAI (Reuters) - Kuwait has denied a media re...</td>\n",
       "      <td>politicsNews</td>\n",
       "      <td>February 5, 2017</td>\n",
       "      <td>True</td>\n",
       "    </tr>\n",
       "  </tbody>\n",
       "</table>\n",
       "<p>42834 rows × 5 columns</p>\n",
       "</div>"
      ],
      "text/plain": [
       "                                                   title  \\\n",
       "2341    House GOP Puts DISGUSTING Restriction On Who’...   \n",
       "3322    Trump Supporter Unleashes EXPLOSIVE Racism On...   \n",
       "22639  Trump, Sanders Win Big In Michigan – Trump, Cl...   \n",
       "14296  BREAKING…Internal Memo From OBAMA’S Corrupt EP...   \n",
       "22375  Amerika: ‘Tolerant’ University Educators Exile...   \n",
       "...                                                  ...   \n",
       "16304  Hungary's Jobbik supports EU deepening with vo...   \n",
       "79     Trump aides hope win on taxes will stem slide ...   \n",
       "12119  South Africa's Zuma says influence-peddling in...   \n",
       "14147  Iran's Rouhani says foreign interference in Sy...   \n",
       "5640   Kuwait denies it imposed travel ban praised by...   \n",
       "\n",
       "                                                    text       subject  \\\n",
       "2341   Paul Ryan said that the House would implement ...          News   \n",
       "3322   Now that Trump is officially going to be the n...          News   \n",
       "22639  21st Century Wire says Rich men love to gamble...       US_News   \n",
       "14296  Wow! Bernie and Hillary have been making hay o...      politics   \n",
       "22375  21st Century Wire says Since the late 1960 s, ...       US_News   \n",
       "...                                                  ...           ...   \n",
       "16304  BUDAPEST (Reuters) - Hungary s main opposition...     worldnews   \n",
       "79     WASHINGTON (Reuters) - Near the end of Preside...  politicsNews   \n",
       "12119  JOHANNESBURG (Reuters) - South African Preside...     worldnews   \n",
       "14147  SOCHI, Russia (Reuters) - Iranian President Ha...     worldnews   \n",
       "5640   DUBAI (Reuters) - Kuwait has denied a media re...  politicsNews   \n",
       "\n",
       "                     date status  \n",
       "2341        March 2, 2017   Fake  \n",
       "3322    December 21, 2016   Fake  \n",
       "22639       March 8, 2016   Fake  \n",
       "14296        Mar 15, 2016   Fake  \n",
       "22375   November 15, 2016   Fake  \n",
       "...                   ...    ...  \n",
       "16304   October 27, 2017    True  \n",
       "79     December 20, 2017    True  \n",
       "12119  December 16, 2017    True  \n",
       "14147  November 22, 2017    True  \n",
       "5640    February 5, 2017    True  \n",
       "\n",
       "[42834 rows x 5 columns]"
      ]
     },
     "execution_count": 19,
     "metadata": {},
     "output_type": "execute_result"
    }
   ],
   "source": [
    "df = pd.concat([Fake, Real], axis = 0)\n",
    "df"
   ]
  },
  {
   "cell_type": "code",
   "execution_count": 20,
   "id": "f1b0daf6",
   "metadata": {},
   "outputs": [
    {
     "data": {
      "text/plain": [
       "(42834, 5)"
      ]
     },
     "execution_count": 20,
     "metadata": {},
     "output_type": "execute_result"
    }
   ],
   "source": [
    "df.shape"
   ]
  },
  {
   "cell_type": "code",
   "execution_count": 21,
   "id": "dd0c6e1f",
   "metadata": {
    "scrolled": true
   },
   "outputs": [
    {
     "data": {
      "text/html": [
       "<div>\n",
       "<style scoped>\n",
       "    .dataframe tbody tr th:only-of-type {\n",
       "        vertical-align: middle;\n",
       "    }\n",
       "\n",
       "    .dataframe tbody tr th {\n",
       "        vertical-align: top;\n",
       "    }\n",
       "\n",
       "    .dataframe thead th {\n",
       "        text-align: right;\n",
       "    }\n",
       "</style>\n",
       "<table border=\"1\" class=\"dataframe\">\n",
       "  <thead>\n",
       "    <tr style=\"text-align: right;\">\n",
       "      <th></th>\n",
       "      <th>title</th>\n",
       "      <th>text</th>\n",
       "      <th>subject</th>\n",
       "      <th>date</th>\n",
       "      <th>status</th>\n",
       "    </tr>\n",
       "  </thead>\n",
       "  <tbody>\n",
       "    <tr>\n",
       "      <th>2341</th>\n",
       "      <td>House GOP Puts DISGUSTING Restriction On Who’...</td>\n",
       "      <td>Paul Ryan said that the House would implement ...</td>\n",
       "      <td>News</td>\n",
       "      <td>March 2, 2017</td>\n",
       "      <td>Fake</td>\n",
       "    </tr>\n",
       "    <tr>\n",
       "      <th>3322</th>\n",
       "      <td>Trump Supporter Unleashes EXPLOSIVE Racism On...</td>\n",
       "      <td>Now that Trump is officially going to be the n...</td>\n",
       "      <td>News</td>\n",
       "      <td>December 21, 2016</td>\n",
       "      <td>Fake</td>\n",
       "    </tr>\n",
       "    <tr>\n",
       "      <th>22639</th>\n",
       "      <td>Trump, Sanders Win Big In Michigan – Trump, Cl...</td>\n",
       "      <td>21st Century Wire says Rich men love to gamble...</td>\n",
       "      <td>US_News</td>\n",
       "      <td>March 8, 2016</td>\n",
       "      <td>Fake</td>\n",
       "    </tr>\n",
       "    <tr>\n",
       "      <th>14296</th>\n",
       "      <td>BREAKING…Internal Memo From OBAMA’S Corrupt EP...</td>\n",
       "      <td>Wow! Bernie and Hillary have been making hay o...</td>\n",
       "      <td>politics</td>\n",
       "      <td>Mar 15, 2016</td>\n",
       "      <td>Fake</td>\n",
       "    </tr>\n",
       "    <tr>\n",
       "      <th>22375</th>\n",
       "      <td>Amerika: ‘Tolerant’ University Educators Exile...</td>\n",
       "      <td>21st Century Wire says Since the late 1960 s, ...</td>\n",
       "      <td>US_News</td>\n",
       "      <td>November 15, 2016</td>\n",
       "      <td>Fake</td>\n",
       "    </tr>\n",
       "  </tbody>\n",
       "</table>\n",
       "</div>"
      ],
      "text/plain": [
       "                                                   title  \\\n",
       "2341    House GOP Puts DISGUSTING Restriction On Who’...   \n",
       "3322    Trump Supporter Unleashes EXPLOSIVE Racism On...   \n",
       "22639  Trump, Sanders Win Big In Michigan – Trump, Cl...   \n",
       "14296  BREAKING…Internal Memo From OBAMA’S Corrupt EP...   \n",
       "22375  Amerika: ‘Tolerant’ University Educators Exile...   \n",
       "\n",
       "                                                    text   subject  \\\n",
       "2341   Paul Ryan said that the House would implement ...      News   \n",
       "3322   Now that Trump is officially going to be the n...      News   \n",
       "22639  21st Century Wire says Rich men love to gamble...   US_News   \n",
       "14296  Wow! Bernie and Hillary have been making hay o...  politics   \n",
       "22375  21st Century Wire says Since the late 1960 s, ...   US_News   \n",
       "\n",
       "                    date status  \n",
       "2341       March 2, 2017   Fake  \n",
       "3322   December 21, 2016   Fake  \n",
       "22639      March 8, 2016   Fake  \n",
       "14296       Mar 15, 2016   Fake  \n",
       "22375  November 15, 2016   Fake  "
      ]
     },
     "execution_count": 21,
     "metadata": {},
     "output_type": "execute_result"
    }
   ],
   "source": [
    "df.head()"
   ]
  },
  {
   "cell_type": "code",
   "execution_count": 22,
   "id": "d8a5abe7",
   "metadata": {},
   "outputs": [
    {
     "data": {
      "text/plain": [
       "status\n",
       "Fake    21417\n",
       "True    21417\n",
       "Name: count, dtype: int64"
      ]
     },
     "execution_count": 22,
     "metadata": {},
     "output_type": "execute_result"
    }
   ],
   "source": [
    "df.status.value_counts()"
   ]
  },
  {
   "cell_type": "code",
   "execution_count": 23,
   "id": "826f0dda",
   "metadata": {},
   "outputs": [
    {
     "name": "stdout",
     "output_type": "stream",
     "text": [
      "title      0\n",
      "text       0\n",
      "subject    0\n",
      "date       0\n",
      "status     0\n",
      "dtype: int64\n",
      "['Fake' 'True']\n"
     ]
    }
   ],
   "source": [
    "print(df.isna().sum())\n",
    "print(df.status.unique())"
   ]
  },
  {
   "cell_type": "code",
   "execution_count": 24,
   "id": "e5329d9c",
   "metadata": {},
   "outputs": [
    {
     "data": {
      "text/html": [
       "<div>\n",
       "<style scoped>\n",
       "    .dataframe tbody tr th:only-of-type {\n",
       "        vertical-align: middle;\n",
       "    }\n",
       "\n",
       "    .dataframe tbody tr th {\n",
       "        vertical-align: top;\n",
       "    }\n",
       "\n",
       "    .dataframe thead th {\n",
       "        text-align: right;\n",
       "    }\n",
       "</style>\n",
       "<table border=\"1\" class=\"dataframe\">\n",
       "  <thead>\n",
       "    <tr style=\"text-align: right;\">\n",
       "      <th></th>\n",
       "      <th>title</th>\n",
       "      <th>text</th>\n",
       "      <th>subject</th>\n",
       "      <th>date</th>\n",
       "      <th>status</th>\n",
       "      <th>status_value</th>\n",
       "    </tr>\n",
       "  </thead>\n",
       "  <tbody>\n",
       "    <tr>\n",
       "      <th>2341</th>\n",
       "      <td>House GOP Puts DISGUSTING Restriction On Who’...</td>\n",
       "      <td>Paul Ryan said that the House would implement ...</td>\n",
       "      <td>News</td>\n",
       "      <td>March 2, 2017</td>\n",
       "      <td>Fake</td>\n",
       "      <td>1</td>\n",
       "    </tr>\n",
       "    <tr>\n",
       "      <th>3322</th>\n",
       "      <td>Trump Supporter Unleashes EXPLOSIVE Racism On...</td>\n",
       "      <td>Now that Trump is officially going to be the n...</td>\n",
       "      <td>News</td>\n",
       "      <td>December 21, 2016</td>\n",
       "      <td>Fake</td>\n",
       "      <td>1</td>\n",
       "    </tr>\n",
       "    <tr>\n",
       "      <th>22639</th>\n",
       "      <td>Trump, Sanders Win Big In Michigan – Trump, Cl...</td>\n",
       "      <td>21st Century Wire says Rich men love to gamble...</td>\n",
       "      <td>US_News</td>\n",
       "      <td>March 8, 2016</td>\n",
       "      <td>Fake</td>\n",
       "      <td>1</td>\n",
       "    </tr>\n",
       "    <tr>\n",
       "      <th>14296</th>\n",
       "      <td>BREAKING…Internal Memo From OBAMA’S Corrupt EP...</td>\n",
       "      <td>Wow! Bernie and Hillary have been making hay o...</td>\n",
       "      <td>politics</td>\n",
       "      <td>Mar 15, 2016</td>\n",
       "      <td>Fake</td>\n",
       "      <td>1</td>\n",
       "    </tr>\n",
       "    <tr>\n",
       "      <th>22375</th>\n",
       "      <td>Amerika: ‘Tolerant’ University Educators Exile...</td>\n",
       "      <td>21st Century Wire says Since the late 1960 s, ...</td>\n",
       "      <td>US_News</td>\n",
       "      <td>November 15, 2016</td>\n",
       "      <td>Fake</td>\n",
       "      <td>1</td>\n",
       "    </tr>\n",
       "  </tbody>\n",
       "</table>\n",
       "</div>"
      ],
      "text/plain": [
       "                                                   title  \\\n",
       "2341    House GOP Puts DISGUSTING Restriction On Who’...   \n",
       "3322    Trump Supporter Unleashes EXPLOSIVE Racism On...   \n",
       "22639  Trump, Sanders Win Big In Michigan – Trump, Cl...   \n",
       "14296  BREAKING…Internal Memo From OBAMA’S Corrupt EP...   \n",
       "22375  Amerika: ‘Tolerant’ University Educators Exile...   \n",
       "\n",
       "                                                    text   subject  \\\n",
       "2341   Paul Ryan said that the House would implement ...      News   \n",
       "3322   Now that Trump is officially going to be the n...      News   \n",
       "22639  21st Century Wire says Rich men love to gamble...   US_News   \n",
       "14296  Wow! Bernie and Hillary have been making hay o...  politics   \n",
       "22375  21st Century Wire says Since the late 1960 s, ...   US_News   \n",
       "\n",
       "                    date status  status_value  \n",
       "2341       March 2, 2017   Fake             1  \n",
       "3322   December 21, 2016   Fake             1  \n",
       "22639      March 8, 2016   Fake             1  \n",
       "14296       Mar 15, 2016   Fake             1  \n",
       "22375  November 15, 2016   Fake             1  "
      ]
     },
     "execution_count": 24,
     "metadata": {},
     "output_type": "execute_result"
    }
   ],
   "source": [
    "target = {'True' : 0,  'Fake' : 1}\n",
    "\n",
    "df['status_value'] = df.status.map(target)\n",
    "df.head()"
   ]
  },
  {
   "cell_type": "code",
   "execution_count": 25,
   "id": "1d71fe27",
   "metadata": {},
   "outputs": [
    {
     "data": {
      "text/plain": [
       "(42834, 6)"
      ]
     },
     "execution_count": 25,
     "metadata": {},
     "output_type": "execute_result"
    }
   ],
   "source": [
    "df.shape"
   ]
  },
  {
   "cell_type": "code",
   "execution_count": 26,
   "id": "deae4099",
   "metadata": {},
   "outputs": [],
   "source": [
    "nlp = sp.load('en_core_web_sm')\n",
    "\n",
    "def clear(text):\n",
    "    doc = nlp(text)\n",
    "    word = []\n",
    "    for token in doc:\n",
    "        if token.is_stop or token.is_punct:\n",
    "            continue\n",
    "        word.append(token.lemma_)\n",
    "    return ' '.join(word)\n",
    "        "
   ]
  },
  {
   "cell_type": "code",
   "execution_count": 27,
   "id": "2711b8de",
   "metadata": {},
   "outputs": [
    {
     "data": {
      "text/html": [
       "<div>\n",
       "<style scoped>\n",
       "    .dataframe tbody tr th:only-of-type {\n",
       "        vertical-align: middle;\n",
       "    }\n",
       "\n",
       "    .dataframe tbody tr th {\n",
       "        vertical-align: top;\n",
       "    }\n",
       "\n",
       "    .dataframe thead th {\n",
       "        text-align: right;\n",
       "    }\n",
       "</style>\n",
       "<table border=\"1\" class=\"dataframe\">\n",
       "  <thead>\n",
       "    <tr style=\"text-align: right;\">\n",
       "      <th></th>\n",
       "      <th>title</th>\n",
       "      <th>text</th>\n",
       "      <th>subject</th>\n",
       "      <th>date</th>\n",
       "      <th>status</th>\n",
       "      <th>status_value</th>\n",
       "      <th>clean_text</th>\n",
       "    </tr>\n",
       "  </thead>\n",
       "  <tbody>\n",
       "    <tr>\n",
       "      <th>2341</th>\n",
       "      <td>House GOP Puts DISGUSTING Restriction On Who’...</td>\n",
       "      <td>Paul Ryan said that the House would implement ...</td>\n",
       "      <td>News</td>\n",
       "      <td>March 2, 2017</td>\n",
       "      <td>Fake</td>\n",
       "      <td>1</td>\n",
       "      <td>Paul Ryan say House implement completely trans...</td>\n",
       "    </tr>\n",
       "    <tr>\n",
       "      <th>3322</th>\n",
       "      <td>Trump Supporter Unleashes EXPLOSIVE Racism On...</td>\n",
       "      <td>Now that Trump is officially going to be the n...</td>\n",
       "      <td>News</td>\n",
       "      <td>December 21, 2016</td>\n",
       "      <td>Fake</td>\n",
       "      <td>1</td>\n",
       "      <td>Trump officially go President United States su...</td>\n",
       "    </tr>\n",
       "    <tr>\n",
       "      <th>22639</th>\n",
       "      <td>Trump, Sanders Win Big In Michigan – Trump, Cl...</td>\n",
       "      <td>21st Century Wire says Rich men love to gamble...</td>\n",
       "      <td>US_News</td>\n",
       "      <td>March 8, 2016</td>\n",
       "      <td>Fake</td>\n",
       "      <td>1</td>\n",
       "      <td>21st Century Wire say Rich man love gamble wee...</td>\n",
       "    </tr>\n",
       "    <tr>\n",
       "      <th>14296</th>\n",
       "      <td>BREAKING…Internal Memo From OBAMA’S Corrupt EP...</td>\n",
       "      <td>Wow! Bernie and Hillary have been making hay o...</td>\n",
       "      <td>politics</td>\n",
       "      <td>Mar 15, 2016</td>\n",
       "      <td>Fake</td>\n",
       "      <td>1</td>\n",
       "      <td>wow Bernie Hillary make hay Flint water crisis...</td>\n",
       "    </tr>\n",
       "    <tr>\n",
       "      <th>22375</th>\n",
       "      <td>Amerika: ‘Tolerant’ University Educators Exile...</td>\n",
       "      <td>21st Century Wire says Since the late 1960 s, ...</td>\n",
       "      <td>US_News</td>\n",
       "      <td>November 15, 2016</td>\n",
       "      <td>Fake</td>\n",
       "      <td>1</td>\n",
       "      <td>21st Century Wire say late 1960 s s accept fac...</td>\n",
       "    </tr>\n",
       "  </tbody>\n",
       "</table>\n",
       "</div>"
      ],
      "text/plain": [
       "                                                   title  \\\n",
       "2341    House GOP Puts DISGUSTING Restriction On Who’...   \n",
       "3322    Trump Supporter Unleashes EXPLOSIVE Racism On...   \n",
       "22639  Trump, Sanders Win Big In Michigan – Trump, Cl...   \n",
       "14296  BREAKING…Internal Memo From OBAMA’S Corrupt EP...   \n",
       "22375  Amerika: ‘Tolerant’ University Educators Exile...   \n",
       "\n",
       "                                                    text   subject  \\\n",
       "2341   Paul Ryan said that the House would implement ...      News   \n",
       "3322   Now that Trump is officially going to be the n...      News   \n",
       "22639  21st Century Wire says Rich men love to gamble...   US_News   \n",
       "14296  Wow! Bernie and Hillary have been making hay o...  politics   \n",
       "22375  21st Century Wire says Since the late 1960 s, ...   US_News   \n",
       "\n",
       "                    date status  status_value  \\\n",
       "2341       March 2, 2017   Fake             1   \n",
       "3322   December 21, 2016   Fake             1   \n",
       "22639      March 8, 2016   Fake             1   \n",
       "14296       Mar 15, 2016   Fake             1   \n",
       "22375  November 15, 2016   Fake             1   \n",
       "\n",
       "                                              clean_text  \n",
       "2341   Paul Ryan say House implement completely trans...  \n",
       "3322   Trump officially go President United States su...  \n",
       "22639  21st Century Wire say Rich man love gamble wee...  \n",
       "14296  wow Bernie Hillary make hay Flint water crisis...  \n",
       "22375  21st Century Wire say late 1960 s s accept fac...  "
      ]
     },
     "execution_count": 27,
     "metadata": {},
     "output_type": "execute_result"
    }
   ],
   "source": [
    "df['clean_text'] = df.text.apply(clear)\n",
    "df.head()"
   ]
  },
  {
   "cell_type": "code",
   "execution_count": 28,
   "id": "4255c439",
   "metadata": {},
   "outputs": [],
   "source": [
    "X_train, X_test, Y_train, Y_test = train_test_split(df.clean_text, df.status_value, test_size = 0.25, random_state = 100, stratify = df.status_value)"
   ]
  },
  {
   "cell_type": "code",
   "execution_count": 29,
   "id": "f6b01af9",
   "metadata": {},
   "outputs": [
    {
     "name": "stdout",
     "output_type": "stream",
     "text": [
      "X_train Shape:- (32125,)\n",
      "X_test Shape:- (10709,)\n"
     ]
    }
   ],
   "source": [
    "print(f'X_train Shape:- {X_train.shape}')\n",
    "print(f'X_test Shape:- {X_test.shape}')"
   ]
  },
  {
   "cell_type": "code",
   "execution_count": 30,
   "id": "f4cf23e8",
   "metadata": {},
   "outputs": [
    {
     "data": {
      "text/plain": [
       "status_value\n",
       "1    16063\n",
       "0    16062\n",
       "Name: count, dtype: int64"
      ]
     },
     "execution_count": 30,
     "metadata": {},
     "output_type": "execute_result"
    }
   ],
   "source": [
    "Y_train.value_counts()"
   ]
  },
  {
   "cell_type": "code",
   "execution_count": 31,
   "id": "586d63eb",
   "metadata": {},
   "outputs": [
    {
     "name": "stdout",
     "output_type": "stream",
     "text": [
      "              precision    recall  f1-score   support\n",
      "\n",
      "           0       0.76      0.81      0.78      5355\n",
      "           1       0.79      0.75      0.77      5354\n",
      "\n",
      "    accuracy                           0.78     10709\n",
      "   macro avg       0.78      0.78      0.78     10709\n",
      "weighted avg       0.78      0.78      0.78     10709\n",
      "\n"
     ]
    }
   ],
   "source": [
    "pipeline_1 = Pipeline([\n",
    "    ('CountVecterizer', CountVectorizer()),\n",
    "    ('knn', KNeighborsClassifier())\n",
    "])\n",
    "\n",
    "pipeline_1.fit(X_train, Y_train)\n",
    "\n",
    "Y_pred = pipeline_1.predict(X_test)\n",
    "\n",
    "print(classification_report(Y_test, Y_pred))"
   ]
  },
  {
   "cell_type": "code",
   "execution_count": 32,
   "id": "a7fa65d4",
   "metadata": {},
   "outputs": [
    {
     "name": "stdout",
     "output_type": "stream",
     "text": [
      "              precision    recall  f1-score   support\n",
      "\n",
      "           0       0.95      0.95      0.95      5355\n",
      "           1       0.95      0.95      0.95      5354\n",
      "\n",
      "    accuracy                           0.95     10709\n",
      "   macro avg       0.95      0.95      0.95     10709\n",
      "weighted avg       0.95      0.95      0.95     10709\n",
      "\n"
     ]
    }
   ],
   "source": [
    "pipeline_2 = Pipeline([\n",
    "    ('CountVecterizer', CountVectorizer()),\n",
    "    ('MultinomialNB', MultinomialNB())\n",
    "])\n",
    "\n",
    "pipeline_2.fit(X_train, Y_train)\n",
    "\n",
    "Y_pred = pipeline_2.predict(X_test)\n",
    "\n",
    "print(classification_report(Y_test, Y_pred))"
   ]
  },
  {
   "cell_type": "code",
   "execution_count": 33,
   "id": "2619c588",
   "metadata": {},
   "outputs": [
    {
     "name": "stdout",
     "output_type": "stream",
     "text": [
      "              precision    recall  f1-score   support\n",
      "\n",
      "           0       0.99      1.00      0.99      5355\n",
      "           1       1.00      0.99      0.99      5354\n",
      "\n",
      "    accuracy                           0.99     10709\n",
      "   macro avg       0.99      0.99      0.99     10709\n",
      "weighted avg       0.99      0.99      0.99     10709\n",
      "\n"
     ]
    }
   ],
   "source": [
    "pipeline_3 = Pipeline([\n",
    "    ('CountVecterizer', CountVectorizer()),\n",
    "    ('RandomForestClassifier', RandomForestClassifier())\n",
    "])\n",
    "\n",
    "pipeline_3.fit(X_train, Y_train)\n",
    "\n",
    "Y_pred = pipeline_3.predict(X_test)\n",
    "\n",
    "print(classification_report(Y_test, Y_pred))"
   ]
  },
  {
   "cell_type": "code",
   "execution_count": 34,
   "id": "030ae33b",
   "metadata": {},
   "outputs": [
    {
     "name": "stdout",
     "output_type": "stream",
     "text": [
      "              precision    recall  f1-score   support\n",
      "\n",
      "           0       1.00      1.00      1.00      5355\n",
      "           1       1.00      1.00      1.00      5354\n",
      "\n",
      "    accuracy                           1.00     10709\n",
      "   macro avg       1.00      1.00      1.00     10709\n",
      "weighted avg       1.00      1.00      1.00     10709\n",
      "\n"
     ]
    }
   ],
   "source": [
    "pipeline_4 = Pipeline([\n",
    "    ('CountVecterizer', CountVectorizer()),\n",
    "    ('DecisionTreeClassifier', DecisionTreeClassifier())\n",
    "])\n",
    "\n",
    "pipeline_4.fit(X_train, Y_train)\n",
    "\n",
    "Y_pred = pipeline_4.predict(X_test)\n",
    "\n",
    "print(classification_report(Y_test, Y_pred))"
   ]
  },
  {
   "cell_type": "code",
   "execution_count": null,
   "id": "e10fd9fa",
   "metadata": {},
   "outputs": [],
   "source": [
    "pipeline_5 = Pipeline([\n",
    "    ('CountVecterizer', CountVectorizer()),\n",
    "    ('SVC', SVC())\n",
    "])\n",
    "\n",
    "pipeline_5.fit(X_train, Y_train)\n",
    "\n",
    "Y_pred = pipeline_5.predict(X_test)\n",
    "\n",
    "print(classification_report(Y_test, Y_pred))"
   ]
  },
  {
   "cell_type": "code",
   "execution_count": null,
   "id": "2b75dbf4",
   "metadata": {},
   "outputs": [],
   "source": []
  }
 ],
 "metadata": {
  "kernelspec": {
   "display_name": "Python 3 (ipykernel)",
   "language": "python",
   "name": "python3"
  },
  "language_info": {
   "codemirror_mode": {
    "name": "ipython",
    "version": 3
   },
   "file_extension": ".py",
   "mimetype": "text/x-python",
   "name": "python",
   "nbconvert_exporter": "python",
   "pygments_lexer": "ipython3",
   "version": "3.9.7"
  }
 },
 "nbformat": 4,
 "nbformat_minor": 5
}
