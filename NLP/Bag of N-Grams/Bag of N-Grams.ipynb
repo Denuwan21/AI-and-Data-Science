{
 "cells": [
  {
   "cell_type": "code",
   "execution_count": 182,
   "id": "5468f12d",
   "metadata": {},
   "outputs": [],
   "source": [
    "from sklearn.feature_extraction.text import CountVectorizer"
   ]
  },
  {
   "cell_type": "code",
   "execution_count": 183,
   "id": "1e8281dc",
   "metadata": {},
   "outputs": [
    {
     "name": "stdout",
     "output_type": "stream",
     "text": [
      "{'build your': 2, 'your profile': 10, 'profile to': 5, 'to connect': 8, 'connect with': 3, 'with students': 9, 'students and': 6, 'and professionals': 0, 'professionals around': 4, 'around the': 1, 'the world': 7}\n"
     ]
    }
   ],
   "source": [
    "X = ['Build your profile to connect with students and professionals around the world']\n",
    "\n",
    "V = CountVectorizer(ngram_range = (2, 2))\n",
    "\n",
    "V.fit(X)\n",
    "\n",
    "print(V.vocabulary_)"
   ]
  },
  {
   "cell_type": "code",
   "execution_count": 184,
   "id": "1369704c",
   "metadata": {},
   "outputs": [],
   "source": [
    "wd = ['I ate Ice Cream',\n",
    "     'He is tall',\n",
    "     'He is eating Ice Cream']"
   ]
  },
  {
   "cell_type": "code",
   "execution_count": 185,
   "id": "b1896172",
   "metadata": {},
   "outputs": [],
   "source": [
    "import spacy as s"
   ]
  },
  {
   "cell_type": "code",
   "execution_count": 186,
   "id": "e9fecdbd",
   "metadata": {},
   "outputs": [],
   "source": [
    "nlp = s.load('en_core_web_sm')\n",
    "\n",
    "def func(text):\n",
    "    doc = nlp(text)\n",
    "    \n",
    "    word_list = []\n",
    "    \n",
    "    for token in doc:\n",
    "        if token.is_stop or token.is_punct:\n",
    "            continue\n",
    "        word_list.append(token.lemma_)\n",
    "    return ' '.join(word_list)"
   ]
  },
  {
   "cell_type": "code",
   "execution_count": 187,
   "id": "a0bcf3b9",
   "metadata": {},
   "outputs": [
    {
     "data": {
      "text/plain": [
       "'build profile connect student professional world'"
      ]
     },
     "execution_count": 187,
     "metadata": {},
     "output_type": "execute_result"
    }
   ],
   "source": [
    "func('Build your profile to connect with students and professionals around the world')"
   ]
  },
  {
   "cell_type": "code",
   "execution_count": 188,
   "id": "264d32f9",
   "metadata": {},
   "outputs": [
    {
     "data": {
      "text/plain": [
       "['build profile connect student professional world']"
      ]
     },
     "execution_count": 188,
     "metadata": {},
     "output_type": "execute_result"
    }
   ],
   "source": [
    "wd_process = [func(text) for text in X]\n",
    "wd_process"
   ]
  },
  {
   "cell_type": "code",
   "execution_count": 189,
   "id": "f7cfa6ec",
   "metadata": {},
   "outputs": [
    {
     "data": {
      "text/plain": [
       "{'build profile': 0,\n",
       " 'profile connect': 3,\n",
       " 'connect student': 1,\n",
       " 'student professional': 4,\n",
       " 'professional world': 2}"
      ]
     },
     "execution_count": 189,
     "metadata": {},
     "output_type": "execute_result"
    }
   ],
   "source": [
    "CV = CountVectorizer(ngram_range = (2, 2))\n",
    "CV.fit(wd_process)\n",
    "CV.vocabulary_"
   ]
  },
  {
   "cell_type": "code",
   "execution_count": 190,
   "id": "3cc5c0fc",
   "metadata": {},
   "outputs": [],
   "source": [
    "import pandas as pd"
   ]
  },
  {
   "cell_type": "code",
   "execution_count": 191,
   "id": "274356a0",
   "metadata": {},
   "outputs": [
    {
     "data": {
      "text/html": [
       "<div>\n",
       "<style scoped>\n",
       "    .dataframe tbody tr th:only-of-type {\n",
       "        vertical-align: middle;\n",
       "    }\n",
       "\n",
       "    .dataframe tbody tr th {\n",
       "        vertical-align: top;\n",
       "    }\n",
       "\n",
       "    .dataframe thead th {\n",
       "        text-align: right;\n",
       "    }\n",
       "</style>\n",
       "<table border=\"1\" class=\"dataframe\">\n",
       "  <thead>\n",
       "    <tr style=\"text-align: right;\">\n",
       "      <th></th>\n",
       "      <th>category</th>\n",
       "      <th>title</th>\n",
       "      <th>body</th>\n",
       "    </tr>\n",
       "  </thead>\n",
       "  <tbody>\n",
       "    <tr>\n",
       "      <th>0</th>\n",
       "      <td>ARTS &amp; CULTURE</td>\n",
       "      <td>Modeling Agencies Enabled Sexual Predators For...</td>\n",
       "      <td>In October 2017, Carolyn Kramer received a dis...</td>\n",
       "    </tr>\n",
       "    <tr>\n",
       "      <th>1</th>\n",
       "      <td>ARTS &amp; CULTURE</td>\n",
       "      <td>Actor Jeff Hiller Talks “Bright Colors And Bol...</td>\n",
       "      <td>This week I talked with actor Jeff Hiller abou...</td>\n",
       "    </tr>\n",
       "    <tr>\n",
       "      <th>2</th>\n",
       "      <td>ARTS &amp; CULTURE</td>\n",
       "      <td>New Yorker Cover Puts Trump 'In The Hole' Afte...</td>\n",
       "      <td>The New Yorker is taking on President Donald T...</td>\n",
       "    </tr>\n",
       "    <tr>\n",
       "      <th>3</th>\n",
       "      <td>ARTS &amp; CULTURE</td>\n",
       "      <td>Man Surprises Girlfriend By Drawing Them In Di...</td>\n",
       "      <td>Kellen Hickey, a 26-year-old who lives in Huds...</td>\n",
       "    </tr>\n",
       "    <tr>\n",
       "      <th>4</th>\n",
       "      <td>ARTS &amp; CULTURE</td>\n",
       "      <td>This Artist Gives Renaissance-Style Sculptures...</td>\n",
       "      <td>There’s something about combining the traditio...</td>\n",
       "    </tr>\n",
       "  </tbody>\n",
       "</table>\n",
       "</div>"
      ],
      "text/plain": [
       "         category                                              title  \\\n",
       "0  ARTS & CULTURE  Modeling Agencies Enabled Sexual Predators For...   \n",
       "1  ARTS & CULTURE  Actor Jeff Hiller Talks “Bright Colors And Bol...   \n",
       "2  ARTS & CULTURE  New Yorker Cover Puts Trump 'In The Hole' Afte...   \n",
       "3  ARTS & CULTURE  Man Surprises Girlfriend By Drawing Them In Di...   \n",
       "4  ARTS & CULTURE  This Artist Gives Renaissance-Style Sculptures...   \n",
       "\n",
       "                                                body  \n",
       "0  In October 2017, Carolyn Kramer received a dis...  \n",
       "1  This week I talked with actor Jeff Hiller abou...  \n",
       "2  The New Yorker is taking on President Donald T...  \n",
       "3  Kellen Hickey, a 26-year-old who lives in Huds...  \n",
       "4  There’s something about combining the traditio...  "
      ]
     },
     "execution_count": 191,
     "metadata": {},
     "output_type": "execute_result"
    }
   ],
   "source": [
    "df = pd.read_csv('news-article-categories.csv')\n",
    "df.head()"
   ]
  },
  {
   "cell_type": "code",
   "execution_count": 192,
   "id": "a8ca7747",
   "metadata": {},
   "outputs": [
    {
     "name": "stdout",
     "output_type": "stream",
     "text": [
      "category\n",
      "ARTS & CULTURE    1002\n",
      "BUSINESS           501\n",
      "ENTERTAINMENT      501\n",
      "ENVIRONMENT        501\n",
      "POLITICS           501\n",
      "RELIGION           501\n",
      "SPORTS             501\n",
      "TECH               501\n",
      "WOMEN              501\n",
      "EDUCATION          490\n",
      "COMEDY             380\n",
      "SCIENCE            350\n",
      "MEDIA              347\n",
      "CRIME              300\n",
      "Name: count, dtype: int64\n"
     ]
    }
   ],
   "source": [
    "print(df.category.value_counts())"
   ]
  },
  {
   "cell_type": "code",
   "execution_count": 193,
   "id": "b834a41e",
   "metadata": {},
   "outputs": [],
   "source": [
    "min_value_count = 300\n",
    "\n",
    "df_art_and_culture = df[df.category == 'ARTS & CULTURE'].sample(min_value_count, random_state = 100)\n",
    "df_business = df[df.category == 'BUSINESS'].sample(min_value_count, random_state = 100)\n",
    "df_entertaintment = df[df.category == 'ENTERTAINMENT'].sample(min_value_count, random_state = 100)\n",
    "\n",
    "df_environmental = df[df.category == 'ENVIRONMENT'].sample(min_value_count, random_state = 100)\n",
    "df_politics = df[df.category == 'POLITICS'].sample(min_value_count, random_state = 100)\n",
    "df_religinon = df[df.category == 'RELIGION'].sample(min_value_count, random_state = 100)\n",
    "\n",
    "df_sport = df[df.category == 'SPORTS'].sample(min_value_count, random_state = 100)\n",
    "df_tech = df[df.category == 'TECH'].sample(min_value_count, random_state = 100)\n",
    "df_women = df[df.category == 'WOMEN'].sample(min_value_count, random_state = 100)\n",
    "\n",
    "df_education = df[df.category == 'EDUCATION'].sample(min_value_count, random_state = 100)\n",
    "df_comedy = df[df.category == 'COMEDY'].sample(min_value_count, random_state = 100)\n",
    "df_scinece = df[df.category == 'SCIENCE'].sample(min_value_count, random_state = 100)\n",
    "\n",
    "df_media = df[df.category == 'MEDIA'].sample(min_value_count, random_state = 100)\n",
    "df_crime = df[df.category == 'CRIME'].sample(min_value_count, random_state = 100)\n"
   ]
  },
  {
   "cell_type": "code",
   "execution_count": 194,
   "id": "b923e44b",
   "metadata": {},
   "outputs": [],
   "source": [
    "df_1 = pd.concat([df_art_and_culture, df_business, df_entertaintment, df_environmental, df_politics, df_religinon,\n",
    "                 df_sport, df_tech, df_women, df_education, df_comedy, df_scinece, df_media, df_crime], axis = 0)"
   ]
  },
  {
   "cell_type": "code",
   "execution_count": 195,
   "id": "ac1c8795",
   "metadata": {},
   "outputs": [
    {
     "data": {
      "text/plain": [
       "array(['ARTS & CULTURE', 'BUSINESS', 'ENTERTAINMENT', 'ENVIRONMENT',\n",
       "       'POLITICS', 'RELIGION', 'SPORTS', 'TECH', 'WOMEN', 'EDUCATION',\n",
       "       'COMEDY', 'SCIENCE', 'MEDIA', 'CRIME'], dtype=object)"
      ]
     },
     "execution_count": 195,
     "metadata": {},
     "output_type": "execute_result"
    }
   ],
   "source": [
    "df_1.category.unique()"
   ]
  },
  {
   "cell_type": "code",
   "execution_count": 196,
   "id": "0a3b74d8",
   "metadata": {},
   "outputs": [
    {
     "data": {
      "text/plain": [
       "category\n",
       "ARTS & CULTURE    300\n",
       "BUSINESS          300\n",
       "ENTERTAINMENT     300\n",
       "ENVIRONMENT       300\n",
       "POLITICS          300\n",
       "RELIGION          300\n",
       "SPORTS            300\n",
       "TECH              300\n",
       "WOMEN             300\n",
       "EDUCATION         300\n",
       "COMEDY            300\n",
       "SCIENCE           300\n",
       "MEDIA             300\n",
       "CRIME             300\n",
       "Name: count, dtype: int64"
      ]
     },
     "execution_count": 196,
     "metadata": {},
     "output_type": "execute_result"
    }
   ],
   "source": [
    "df_1.category.value_counts()"
   ]
  },
  {
   "cell_type": "code",
   "execution_count": 197,
   "id": "1aaf7623",
   "metadata": {
    "scrolled": true
   },
   "outputs": [
    {
     "data": {
      "text/html": [
       "<div>\n",
       "<style scoped>\n",
       "    .dataframe tbody tr th:only-of-type {\n",
       "        vertical-align: middle;\n",
       "    }\n",
       "\n",
       "    .dataframe tbody tr th {\n",
       "        vertical-align: top;\n",
       "    }\n",
       "\n",
       "    .dataframe thead th {\n",
       "        text-align: right;\n",
       "    }\n",
       "</style>\n",
       "<table border=\"1\" class=\"dataframe\">\n",
       "  <thead>\n",
       "    <tr style=\"text-align: right;\">\n",
       "      <th></th>\n",
       "      <th>category</th>\n",
       "      <th>title</th>\n",
       "      <th>body</th>\n",
       "      <th>cat_num</th>\n",
       "    </tr>\n",
       "  </thead>\n",
       "  <tbody>\n",
       "    <tr>\n",
       "      <th>249</th>\n",
       "      <td>ARTS &amp; CULTURE</td>\n",
       "      <td>Help A Queens Museum Create A Permanent Home F...</td>\n",
       "      <td>Kermit the Frog. Miss Piggy. Elmo. Cookie Mons...</td>\n",
       "      <td>1</td>\n",
       "    </tr>\n",
       "    <tr>\n",
       "      <th>353</th>\n",
       "      <td>ARTS &amp; CULTURE</td>\n",
       "      <td>Artist Honors The History Of Broken Promises T...</td>\n",
       "      <td>From a distance, Gina Adams’ quilts look famil...</td>\n",
       "      <td>1</td>\n",
       "    </tr>\n",
       "    <tr>\n",
       "      <th>537</th>\n",
       "      <td>ARTS &amp; CULTURE</td>\n",
       "      <td>Interview With Jeff Koons</td>\n",
       "      <td>Jeff Koons. Photo: Elena Cué  American artist...</td>\n",
       "      <td>1</td>\n",
       "    </tr>\n",
       "    <tr>\n",
       "      <th>424</th>\n",
       "      <td>ARTS &amp; CULTURE</td>\n",
       "      <td>D.C. Museum Dedicated To Women In Art Broke At...</td>\n",
       "      <td>The weekend of Donald Trump’s inauguration, wo...</td>\n",
       "      <td>1</td>\n",
       "    </tr>\n",
       "    <tr>\n",
       "      <th>564</th>\n",
       "      <td>ARTS &amp; CULTURE</td>\n",
       "      <td>William Kentridge's 'Greatest Drawing Ever' Un...</td>\n",
       "      <td>William Kentridge at work on Triumphs and La...</td>\n",
       "      <td>1</td>\n",
       "    </tr>\n",
       "  </tbody>\n",
       "</table>\n",
       "</div>"
      ],
      "text/plain": [
       "           category                                              title  \\\n",
       "249  ARTS & CULTURE  Help A Queens Museum Create A Permanent Home F...   \n",
       "353  ARTS & CULTURE  Artist Honors The History Of Broken Promises T...   \n",
       "537  ARTS & CULTURE                          Interview With Jeff Koons   \n",
       "424  ARTS & CULTURE  D.C. Museum Dedicated To Women In Art Broke At...   \n",
       "564  ARTS & CULTURE  William Kentridge's 'Greatest Drawing Ever' Un...   \n",
       "\n",
       "                                                  body  cat_num  \n",
       "249  Kermit the Frog. Miss Piggy. Elmo. Cookie Mons...        1  \n",
       "353  From a distance, Gina Adams’ quilts look famil...        1  \n",
       "537   Jeff Koons. Photo: Elena Cué  American artist...        1  \n",
       "424  The weekend of Donald Trump’s inauguration, wo...        1  \n",
       "564    William Kentridge at work on Triumphs and La...        1  "
      ]
     },
     "execution_count": 197,
     "metadata": {},
     "output_type": "execute_result"
    }
   ],
   "source": [
    "target = {'ARTS & CULTURE' : 1, 'BUSINESS' : 2, 'ENTERTAINMENT' : 3, 'ENVIRONMENT' : 4,\n",
    "       'POLITICS' : 5, 'RELIGION' : 6, 'SPORTS' : 7, 'TECH' : 8, 'WOMEN' : 9, 'EDUCATION' : 10,\n",
    "       'COMEDY' : 11, 'SCIENCE' : 12, 'MEDIA' : 13, 'CRIME' : 14}\n",
    "\n",
    "df_1['cat_num'] = df_1.category.map(target)\n",
    "\n",
    "df_1.head()"
   ]
  },
  {
   "cell_type": "code",
   "execution_count": 198,
   "id": "2ccd2a05",
   "metadata": {
    "scrolled": true
   },
   "outputs": [],
   "source": [
    "df_1 = df_1.dropna()"
   ]
  },
  {
   "cell_type": "code",
   "execution_count": 199,
   "id": "b7caecd5",
   "metadata": {},
   "outputs": [
    {
     "data": {
      "text/plain": [
       "category    0\n",
       "title       0\n",
       "body        0\n",
       "cat_num     0\n",
       "dtype: int64"
      ]
     },
     "execution_count": 199,
     "metadata": {},
     "output_type": "execute_result"
    }
   ],
   "source": [
    "df_1.isna().sum()"
   ]
  },
  {
   "cell_type": "code",
   "execution_count": 200,
   "id": "5f0af454",
   "metadata": {},
   "outputs": [],
   "source": [
    "from sklearn.model_selection import train_test_split"
   ]
  },
  {
   "cell_type": "code",
   "execution_count": 201,
   "id": "3a81847e",
   "metadata": {},
   "outputs": [],
   "source": [
    "X_train, X_test, Y_train, Y_test = train_test_split(df_1.body, df_1.cat_num, test_size=0.2, random_state=100, stratify = df_1.cat_num)"
   ]
  },
  {
   "cell_type": "code",
   "execution_count": 202,
   "id": "417c8136",
   "metadata": {},
   "outputs": [
    {
     "name": "stdout",
     "output_type": "stream",
     "text": [
      "(3357,)\n"
     ]
    },
    {
     "data": {
      "text/plain": [
       "509     In 2012, the German artist Thomas Bayrle cause...\n",
       "5767    An undefeated little league softball team in V...\n",
       "2416    President Trump has a new secretary of educati...\n",
       "3811    After going on a defiant media spree on Monday...\n",
       "4894    A neo-Nazi website is calling for an armed pro...\n",
       "Name: body, dtype: object"
      ]
     },
     "execution_count": 202,
     "metadata": {},
     "output_type": "execute_result"
    }
   ],
   "source": [
    "print(X_train.shape)\n",
    "X_train.head()"
   ]
  },
  {
   "cell_type": "code",
   "execution_count": 203,
   "id": "d8302bee",
   "metadata": {},
   "outputs": [
    {
     "data": {
      "text/plain": [
       "cat_num\n",
       "6     60\n",
       "11    60\n",
       "8     60\n",
       "12    60\n",
       "4     60\n",
       "1     60\n",
       "9     60\n",
       "2     60\n",
       "13    60\n",
       "5     60\n",
       "14    60\n",
       "7     60\n",
       "10    60\n",
       "3     60\n",
       "Name: count, dtype: int64"
      ]
     },
     "execution_count": 203,
     "metadata": {},
     "output_type": "execute_result"
    }
   ],
   "source": [
    "Y_test.value_counts()"
   ]
  },
  {
   "cell_type": "code",
   "execution_count": 204,
   "id": "b3153074",
   "metadata": {},
   "outputs": [],
   "source": [
    "from sklearn.naive_bayes import MultinomialNB\n",
    "from sklearn.pipeline import Pipeline\n",
    "from sklearn.metrics import classification_report"
   ]
  },
  {
   "cell_type": "code",
   "execution_count": 214,
   "id": "a8a8ef4c",
   "metadata": {
    "scrolled": true
   },
   "outputs": [
    {
     "name": "stdout",
     "output_type": "stream",
     "text": [
      "              precision    recall  f1-score   support\n",
      "\n",
      "           1       0.69      0.88      0.77        60\n",
      "           2       0.58      0.67      0.62        60\n",
      "           3       0.58      0.57      0.57        60\n",
      "           4       0.82      0.67      0.73        60\n",
      "           5       0.60      0.77      0.67        60\n",
      "           6       0.82      0.88      0.85        60\n",
      "           7       0.88      0.82      0.84        60\n",
      "           8       0.94      0.53      0.68        60\n",
      "           9       0.66      0.70      0.68        60\n",
      "          10       0.63      0.87      0.73        60\n",
      "          11       0.89      0.13      0.23        60\n",
      "          12       0.82      0.75      0.78        60\n",
      "          13       0.60      0.80      0.69        60\n",
      "          14       0.78      0.83      0.81        60\n",
      "\n",
      "    accuracy                           0.70       840\n",
      "   macro avg       0.73      0.70      0.69       840\n",
      "weighted avg       0.73      0.70      0.69       840\n",
      "\n"
     ]
    }
   ],
   "source": [
    "clf = Pipeline([\n",
    "        ('CountVectorizer', CountVectorizer()),\n",
    "        ('MultinomialNB', MultinomialNB())\n",
    "])\n",
    "\n",
    "clf.fit(X_train, Y_train)\n",
    "\n",
    "Y_pred = clf.predict(X_test)\n",
    "\n",
    "print(classification_report(Y_test, Y_pred))"
   ]
  },
  {
   "cell_type": "code",
   "execution_count": 215,
   "id": "2b143cf1",
   "metadata": {
    "collapsed": true
   },
   "outputs": [
    {
     "name": "stdout",
     "output_type": "stream",
     "text": [
      "4780    In a rallying cry against religious extremism,...\n",
      "1749    Actor Alec Baldwin called into a radio station...\n",
      "1664    Seth Meyers took aim at the GOP for staying si...\n",
      "5986    Surveillance video shows the shocking moment a...\n",
      "5328    A giant sunspot has apparently turned on its l...\n",
      "3292    This week brought several big headlines in ext...\n",
      "5215    A NASA observatory witnessed an incredible dou...\n",
      "24      In 2013, when Glenn Cantave was an undergrad s...\n",
      "1551    Jordan Klepper of the “The Opposition” wants t...\n",
      "6579    With the #MeToo movement gaining in the world ...\n",
      "Name: body, dtype: object\n",
      "\n",
      "Y Test:-  4780     6\n",
      "1749    11\n",
      "1664    11\n",
      "5986     8\n",
      "5328    12\n",
      "3292     4\n",
      "5215    12\n",
      "24       1\n",
      "1551    11\n",
      "6579     9\n",
      "Name: cat_num, dtype: int64\n",
      "\n",
      "Y Prediction:-  [ 6 13 13 14 12  4 12  6  5  9]\n"
     ]
    }
   ],
   "source": [
    "print(X_test[:10])\n",
    "print('')\n",
    "print('Y Test:- ',Y_test[:10])\n",
    "print('')\n",
    "print('Y Prediction:- ',Y_pred[:10])"
   ]
  },
  {
   "cell_type": "code",
   "execution_count": 213,
   "id": "716911ef",
   "metadata": {},
   "outputs": [
    {
     "data": {
      "text/plain": [
       "\"clf = Pipeline([\\n        ('vectorizer_bow', CountVectorizer(ngram_range = (1, 3))),\\n        ('Multi NB', MultinomialNB())\\n])\\n\\nclf.fit(X_train, Y_train)\\n\\nY_pred = clf.predict(X_test)\\n\\nprint(classification_report(Y_test, Y_pred))\""
      ]
     },
     "execution_count": 213,
     "metadata": {},
     "output_type": "execute_result"
    }
   ],
   "source": [
    "\"\"\"clf = Pipeline([\n",
    "        ('vectorizer_bow', CountVectorizer(ngram_range = (1, 3))),\n",
    "        ('Multi NB', MultinomialNB())\n",
    "])\n",
    "\n",
    "clf.fit(X_train, Y_train)\n",
    "\n",
    "Y_pred = clf.predict(X_test)\n",
    "\n",
    "print(classification_report(Y_test, Y_pred))\"\"\""
   ]
  },
  {
   "cell_type": "code",
   "execution_count": 208,
   "id": "fd4ca74f",
   "metadata": {},
   "outputs": [],
   "source": [
    "#X_test[:3]"
   ]
  },
  {
   "cell_type": "code",
   "execution_count": 209,
   "id": "642cebbb",
   "metadata": {},
   "outputs": [],
   "source": [
    "#print('Y Test:- ',Y_test[:3])\n",
    "#print('')\n",
    "#print('Y Prediction:- ',Y_pred[:3])"
   ]
  },
  {
   "cell_type": "code",
   "execution_count": 217,
   "id": "54a2cbfd",
   "metadata": {},
   "outputs": [],
   "source": [
    "df_1['preprocess_body'] = df_1.body.apply(func)"
   ]
  },
  {
   "cell_type": "code",
   "execution_count": 218,
   "id": "426dc003",
   "metadata": {},
   "outputs": [
    {
     "data": {
      "text/html": [
       "<div>\n",
       "<style scoped>\n",
       "    .dataframe tbody tr th:only-of-type {\n",
       "        vertical-align: middle;\n",
       "    }\n",
       "\n",
       "    .dataframe tbody tr th {\n",
       "        vertical-align: top;\n",
       "    }\n",
       "\n",
       "    .dataframe thead th {\n",
       "        text-align: right;\n",
       "    }\n",
       "</style>\n",
       "<table border=\"1\" class=\"dataframe\">\n",
       "  <thead>\n",
       "    <tr style=\"text-align: right;\">\n",
       "      <th></th>\n",
       "      <th>category</th>\n",
       "      <th>title</th>\n",
       "      <th>body</th>\n",
       "      <th>cat_num</th>\n",
       "      <th>preprocess_body</th>\n",
       "    </tr>\n",
       "  </thead>\n",
       "  <tbody>\n",
       "    <tr>\n",
       "      <th>249</th>\n",
       "      <td>ARTS &amp; CULTURE</td>\n",
       "      <td>Help A Queens Museum Create A Permanent Home F...</td>\n",
       "      <td>Kermit the Frog. Miss Piggy. Elmo. Cookie Mons...</td>\n",
       "      <td>1</td>\n",
       "      <td>kermit Frog Miss Piggy Elmo Cookie Monster Fra...</td>\n",
       "    </tr>\n",
       "    <tr>\n",
       "      <th>353</th>\n",
       "      <td>ARTS &amp; CULTURE</td>\n",
       "      <td>Artist Honors The History Of Broken Promises T...</td>\n",
       "      <td>From a distance, Gina Adams’ quilts look famil...</td>\n",
       "      <td>1</td>\n",
       "      <td>distance Gina Adams quilt look familiar wear s...</td>\n",
       "    </tr>\n",
       "    <tr>\n",
       "      <th>537</th>\n",
       "      <td>ARTS &amp; CULTURE</td>\n",
       "      <td>Interview With Jeff Koons</td>\n",
       "      <td>Jeff Koons. Photo: Elena Cué  American artist...</td>\n",
       "      <td>1</td>\n",
       "      <td>Jeff Koons photo Elena Cué   american artist...</td>\n",
       "    </tr>\n",
       "    <tr>\n",
       "      <th>424</th>\n",
       "      <td>ARTS &amp; CULTURE</td>\n",
       "      <td>D.C. Museum Dedicated To Women In Art Broke At...</td>\n",
       "      <td>The weekend of Donald Trump’s inauguration, wo...</td>\n",
       "      <td>1</td>\n",
       "      <td>weekend Donald Trump inauguration woman ally W...</td>\n",
       "    </tr>\n",
       "    <tr>\n",
       "      <th>564</th>\n",
       "      <td>ARTS &amp; CULTURE</td>\n",
       "      <td>William Kentridge's 'Greatest Drawing Ever' Un...</td>\n",
       "      <td>William Kentridge at work on Triumphs and La...</td>\n",
       "      <td>1</td>\n",
       "      <td>William Kentridge work Triumphs Laments Joh...</td>\n",
       "    </tr>\n",
       "  </tbody>\n",
       "</table>\n",
       "</div>"
      ],
      "text/plain": [
       "           category                                              title  \\\n",
       "249  ARTS & CULTURE  Help A Queens Museum Create A Permanent Home F...   \n",
       "353  ARTS & CULTURE  Artist Honors The History Of Broken Promises T...   \n",
       "537  ARTS & CULTURE                          Interview With Jeff Koons   \n",
       "424  ARTS & CULTURE  D.C. Museum Dedicated To Women In Art Broke At...   \n",
       "564  ARTS & CULTURE  William Kentridge's 'Greatest Drawing Ever' Un...   \n",
       "\n",
       "                                                  body  cat_num  \\\n",
       "249  Kermit the Frog. Miss Piggy. Elmo. Cookie Mons...        1   \n",
       "353  From a distance, Gina Adams’ quilts look famil...        1   \n",
       "537   Jeff Koons. Photo: Elena Cué  American artist...        1   \n",
       "424  The weekend of Donald Trump’s inauguration, wo...        1   \n",
       "564    William Kentridge at work on Triumphs and La...        1   \n",
       "\n",
       "                                       preprocess_body  \n",
       "249  kermit Frog Miss Piggy Elmo Cookie Monster Fra...  \n",
       "353  distance Gina Adams quilt look familiar wear s...  \n",
       "537    Jeff Koons photo Elena Cué   american artist...  \n",
       "424  weekend Donald Trump inauguration woman ally W...  \n",
       "564     William Kentridge work Triumphs Laments Joh...  "
      ]
     },
     "execution_count": 218,
     "metadata": {},
     "output_type": "execute_result"
    }
   ],
   "source": [
    "df_1.head()"
   ]
  },
  {
   "cell_type": "code",
   "execution_count": 219,
   "id": "57da7b68",
   "metadata": {},
   "outputs": [],
   "source": [
    "X_train, X_test, Y_train, Y_test = train_test_split(df_1.preprocess_body, \n",
    "                                                    df_1.cat_num, \n",
    "                                                    test_size=0.2, \n",
    "                                                    random_state=100, \n",
    "                                                    stratify = df_1.cat_num)"
   ]
  },
  {
   "cell_type": "code",
   "execution_count": 220,
   "id": "f73ccee1",
   "metadata": {},
   "outputs": [
    {
     "name": "stdout",
     "output_type": "stream",
     "text": [
      "              precision    recall  f1-score   support\n",
      "\n",
      "           1       0.85      0.83      0.84        60\n",
      "           2       0.69      0.77      0.72        60\n",
      "           3       0.61      0.68      0.65        60\n",
      "           4       0.77      0.80      0.79        60\n",
      "           5       0.66      0.82      0.73        60\n",
      "           6       0.84      0.90      0.87        60\n",
      "           7       0.86      0.93      0.90        60\n",
      "           8       0.85      0.67      0.75        60\n",
      "           9       0.73      0.58      0.65        60\n",
      "          10       0.78      0.85      0.82        60\n",
      "          11       0.94      0.55      0.69        60\n",
      "          12       0.83      0.75      0.79        60\n",
      "          13       0.71      0.80      0.75        60\n",
      "          14       0.78      0.85      0.82        60\n",
      "\n",
      "    accuracy                           0.77       840\n",
      "   macro avg       0.78      0.77      0.77       840\n",
      "weighted avg       0.78      0.77      0.77       840\n",
      "\n"
     ]
    }
   ],
   "source": [
    "clf_1 = Pipeline([\n",
    "        ('CountVectorizer', CountVectorizer()),\n",
    "        ('MultinomialNB', MultinomialNB())\n",
    "])\n",
    "\n",
    "clf_1.fit(X_train, Y_train)\n",
    "\n",
    "Y_pred = clf.predict(X_test)\n",
    "\n",
    "print(classification_report(Y_test, Y_pred))"
   ]
  },
  {
   "cell_type": "code",
   "execution_count": 221,
   "id": "cbd9127a",
   "metadata": {},
   "outputs": [
    {
     "name": "stdout",
     "output_type": "stream",
     "text": [
      "              precision    recall  f1-score   support\n",
      "\n",
      "           1       0.85      0.83      0.84        60\n",
      "           2       0.69      0.77      0.72        60\n",
      "           3       0.61      0.68      0.65        60\n",
      "           4       0.77      0.80      0.79        60\n",
      "           5       0.66      0.82      0.73        60\n",
      "           6       0.84      0.90      0.87        60\n",
      "           7       0.86      0.93      0.90        60\n",
      "           8       0.85      0.67      0.75        60\n",
      "           9       0.73      0.58      0.65        60\n",
      "          10       0.78      0.85      0.82        60\n",
      "          11       0.94      0.55      0.69        60\n",
      "          12       0.83      0.75      0.79        60\n",
      "          13       0.71      0.80      0.75        60\n",
      "          14       0.78      0.85      0.82        60\n",
      "\n",
      "    accuracy                           0.77       840\n",
      "   macro avg       0.78      0.77      0.77       840\n",
      "weighted avg       0.78      0.77      0.77       840\n",
      "\n"
     ]
    }
   ],
   "source": [
    "clf_1 = Pipeline([\n",
    "        ('CountVectorizer', CountVectorizer(ngram_range = (2, 2))),\n",
    "        ('MultinomialNB', MultinomialNB())\n",
    "])\n",
    "\n",
    "clf_1.fit(X_train, Y_train)\n",
    "\n",
    "Y_pred = clf.predict(X_test)\n",
    "\n",
    "print(classification_report(Y_test, Y_pred))"
   ]
  },
  {
   "cell_type": "code",
   "execution_count": null,
   "id": "8f7cb163",
   "metadata": {},
   "outputs": [],
   "source": []
  }
 ],
 "metadata": {
  "kernelspec": {
   "display_name": "Python 3 (ipykernel)",
   "language": "python",
   "name": "python3"
  },
  "language_info": {
   "codemirror_mode": {
    "name": "ipython",
    "version": 3
   },
   "file_extension": ".py",
   "mimetype": "text/x-python",
   "name": "python",
   "nbconvert_exporter": "python",
   "pygments_lexer": "ipython3",
   "version": "3.9.7"
  }
 },
 "nbformat": 4,
 "nbformat_minor": 5
}
