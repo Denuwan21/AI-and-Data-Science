{
 "cells": [
  {
   "cell_type": "markdown",
   "id": "e5c626fe",
   "metadata": {},
   "source": [
    "Import Regular Expression "
   ]
  },
  {
   "cell_type": "code",
   "execution_count": 56,
   "id": "e9d6e7a9",
   "metadata": {},
   "outputs": [],
   "source": [
    "import re"
   ]
  },
  {
   "cell_type": "markdown",
   "id": "0938f87d",
   "metadata": {},
   "source": [
    "Add Characters "
   ]
  },
  {
   "cell_type": "code",
   "execution_count": 57,
   "id": "a7d06952",
   "metadata": {},
   "outputs": [],
   "source": [
    "chat1 = 'My details: you ask lot of questions 1235678910, tomy@gmail.com 0778965412 Reg No #78841'\n",
    "chat2 = 'My details: here it is: (123)-567-8912, tomy52@gmail.com 077-365-1254 Reg No 78841'\n",
    "chat3 = 'My details: yes, phone: 1235678910 email: tomy_36@gmail.com Reg No is 78841'"
   ]
  },
  {
   "cell_type": "markdown",
   "id": "ec2055ad",
   "metadata": {},
   "source": [
    "Find Mobile Number Method - 01 "
   ]
  },
  {
   "cell_type": "code",
   "execution_count": 58,
   "id": "49ba011e",
   "metadata": {},
   "outputs": [
    {
     "data": {
      "text/plain": [
       "['1235678910', '0778965412']"
      ]
     },
     "execution_count": 58,
     "metadata": {},
     "output_type": "execute_result"
    }
   ],
   "source": [
    "pattern_1 = '\\d{10}'\n",
    "chat1_mobile  = re.findall(pattern, chat1)\n",
    "chat1_mobile"
   ]
  },
  {
   "cell_type": "markdown",
   "id": "143dac48",
   "metadata": {},
   "source": [
    "Find Mobile Number Method - 02"
   ]
  },
  {
   "cell_type": "code",
   "execution_count": 59,
   "id": "e2343830",
   "metadata": {},
   "outputs": [
    {
     "data": {
      "text/plain": [
       "['077-365-1254']"
      ]
     },
     "execution_count": 59,
     "metadata": {},
     "output_type": "execute_result"
    }
   ],
   "source": [
    "pattern_2_2 = '\\d{3}-\\d{3}-\\d{4}'\n",
    "chat2_mobile = re.findall(pattern_2_2, chat2)\n",
    "chat2_mobile"
   ]
  },
  {
   "cell_type": "markdown",
   "id": "1395cbe5",
   "metadata": {},
   "source": [
    "Find Mobile Number Method - 01 and 02 Merge"
   ]
  },
  {
   "cell_type": "code",
   "execution_count": 60,
   "id": "fbbd1181",
   "metadata": {},
   "outputs": [
    {
     "data": {
      "text/plain": [
       "[' 077-365-1254']"
      ]
     },
     "execution_count": 60,
     "metadata": {},
     "output_type": "execute_result"
    }
   ],
   "source": [
    "pattern_2_1 = '\\(\\d{3}\\)-\\d{3}-\\d{4} | \\d{3}-\\d{3}-\\d{4}'\n",
    "chat2_mobile = re.findall(pattern_2_1, chat2)\n",
    "chat2_mobile"
   ]
  },
  {
   "cell_type": "markdown",
   "id": "d6a327a0",
   "metadata": {},
   "source": [
    "Find Email Address\n",
    "\n",
    "Method - 01"
   ]
  },
  {
   "cell_type": "code",
   "execution_count": 61,
   "id": "9766881c",
   "metadata": {},
   "outputs": [
    {
     "data": {
      "text/plain": [
       "[' tomy@gmail.com']"
      ]
     },
     "execution_count": 61,
     "metadata": {},
     "output_type": "execute_result"
    }
   ],
   "source": [
    "mail_pattern_1 = '[a-z 0-9]*@[a-z 0-9]*\\.[a-z]*'\n",
    "chat1_mail_1 = re.findall(mail_pattern_1, chat1)\n",
    "chat1_mail_1"
   ]
  },
  {
   "cell_type": "markdown",
   "id": "ffb2f2e5",
   "metadata": {},
   "source": [
    "Methode - 02"
   ]
  },
  {
   "cell_type": "code",
   "execution_count": 62,
   "id": "30e61928",
   "metadata": {},
   "outputs": [
    {
     "data": {
      "text/plain": [
       "[' tomy52@gmail.com']"
      ]
     },
     "execution_count": 62,
     "metadata": {},
     "output_type": "execute_result"
    }
   ],
   "source": [
    "mail_pattern_2 = '[a-z 0-9]*\\d[0-9]*@[a-z 0-9]*\\.[a-z]*'\n",
    "chat1_mail_2 = re.findall(mail_pattern_2, chat2)\n",
    "chat1_mail_2"
   ]
  },
  {
   "cell_type": "markdown",
   "id": "d7bf238f",
   "metadata": {},
   "source": [
    "Method - 03"
   ]
  },
  {
   "cell_type": "code",
   "execution_count": 63,
   "id": "a2ad2d55",
   "metadata": {},
   "outputs": [
    {
     "data": {
      "text/plain": [
       "[' tomy_36@gmail.com']"
      ]
     },
     "execution_count": 63,
     "metadata": {},
     "output_type": "execute_result"
    }
   ],
   "source": [
    "mail_pattern_3 = '[a-z 0-9]*_\\d[0-9]*@[a-z 0-9]*\\.[a-z]*'\n",
    "chat1_mail_3 = re.findall(mail_pattern_3, chat3)\n",
    "chat1_mail_3"
   ]
  },
  {
   "cell_type": "markdown",
   "id": "26b410fd",
   "metadata": {},
   "source": [
    "Find Registration Number Chat - 1"
   ]
  },
  {
   "cell_type": "code",
   "execution_count": 70,
   "id": "1140fade",
   "metadata": {},
   "outputs": [
    {
     "data": {
      "text/plain": [
       "['Reg No #78841']"
      ]
     },
     "execution_count": 70,
     "metadata": {},
     "output_type": "execute_result"
    }
   ],
   "source": [
    "mail_pattern_1 = 'Reg[^\\d]*\\d*'\n",
    "chat1_reg_1 = re.findall(mail_pattern_1, chat1)\n",
    "chat1_reg_1"
   ]
  },
  {
   "cell_type": "markdown",
   "id": "6f2dc6b3",
   "metadata": {},
   "source": [
    "Find Registration Number Chat - 2"
   ]
  },
  {
   "cell_type": "code",
   "execution_count": 74,
   "id": "96f4420c",
   "metadata": {},
   "outputs": [
    {
     "data": {
      "text/plain": [
       "['Reg No 78841']"
      ]
     },
     "execution_count": 74,
     "metadata": {},
     "output_type": "execute_result"
    }
   ],
   "source": [
    "mail_pattern_2 = 'Reg[^\\d]*\\d*'\n",
    "chat1_reg_2 = re.findall(mail_pattern_2, chat2)\n",
    "chat1_reg_2"
   ]
  },
  {
   "cell_type": "markdown",
   "id": "a26aeb6c",
   "metadata": {},
   "source": [
    "Find Registration Number Chat - 3"
   ]
  },
  {
   "cell_type": "code",
   "execution_count": 75,
   "id": "543a95ef",
   "metadata": {},
   "outputs": [
    {
     "data": {
      "text/plain": [
       "['Reg No is 78841']"
      ]
     },
     "execution_count": 75,
     "metadata": {},
     "output_type": "execute_result"
    }
   ],
   "source": [
    "mail_pattern_3 = 'Reg[^\\d]*\\d*'\n",
    "chat1_reg_3 = re.findall(mail_pattern_3, chat3)\n",
    "chat1_reg_3"
   ]
  },
  {
   "cell_type": "code",
   "execution_count": null,
   "id": "6c829a9e",
   "metadata": {},
   "outputs": [],
   "source": []
  },
  {
   "cell_type": "code",
   "execution_count": null,
   "id": "bd939e01",
   "metadata": {},
   "outputs": [],
   "source": []
  }
 ],
 "metadata": {
  "kernelspec": {
   "display_name": "Python 3 (ipykernel)",
   "language": "python",
   "name": "python3"
  },
  "language_info": {
   "codemirror_mode": {
    "name": "ipython",
    "version": 3
   },
   "file_extension": ".py",
   "mimetype": "text/x-python",
   "name": "python",
   "nbconvert_exporter": "python",
   "pygments_lexer": "ipython3",
   "version": "3.9.7"
  }
 },
 "nbformat": 4,
 "nbformat_minor": 5
}
