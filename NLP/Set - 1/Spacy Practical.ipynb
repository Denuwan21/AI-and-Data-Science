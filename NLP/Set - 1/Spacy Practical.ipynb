{
 "cells": [
  {
   "cell_type": "code",
   "execution_count": 1,
   "id": "3127e694",
   "metadata": {},
   "outputs": [],
   "source": [
    "import spacy as sp # type: ignore"
   ]
  },
  {
   "cell_type": "code",
   "execution_count": 2,
   "id": "dce89314",
   "metadata": {},
   "outputs": [],
   "source": [
    "nlp = sp.blank('en')"
   ]
  },
  {
   "cell_type": "code",
   "execution_count": 3,
   "id": "7355c24d",
   "metadata": {},
   "outputs": [
    {
     "data": {
      "text/plain": [
       "<spacy.pipeline.sentencizer.Sentencizer at 0x1a79db0ddc0>"
      ]
     },
     "execution_count": 3,
     "metadata": {},
     "output_type": "execute_result"
    }
   ],
   "source": [
    "nlp.add_pipe('sentencizer')"
   ]
  },
  {
   "cell_type": "code",
   "execution_count": 4,
   "id": "10fd28a8",
   "metadata": {
    "scrolled": true
   },
   "outputs": [
    {
     "data": {
      "text/plain": [
       "['Dayton high school, 8th grade students information\\n',\n",
       " '==================================================\\n',\n",
       " '\\n',\n",
       " 'Name\\tbirth day   \\temail\\n',\n",
       " '-----\\t------------\\t------\\n',\n",
       " 'Virat   5 June, 1882    virat@kohli.com\\n',\n",
       " 'Maria\\t12 April, 2001  maria@sharapova.com\\n',\n",
       " 'Serena  24 June, 1998   serena@williams.com \\n',\n",
       " 'Joe      1 May, 1997    joe@root.com']"
      ]
     },
     "execution_count": 4,
     "metadata": {},
     "output_type": "execute_result"
    }
   ],
   "source": [
    "with open('Employee.txt') as emp:\n",
    "    text_1 = emp.readlines()\n",
    "text_1"
   ]
  },
  {
   "cell_type": "code",
   "execution_count": 5,
   "id": "bd9f456c",
   "metadata": {},
   "outputs": [
    {
     "data": {
      "text/plain": [
       "'Dayton high school, 8th grade students information\\n ==================================================\\n \\n Name\\tbirth day   \\temail\\n -----\\t------------\\t------\\n Virat   5 June, 1882    virat@kohli.com\\n Maria\\t12 April, 2001  maria@sharapova.com\\n Serena  24 June, 1998   serena@williams.com \\n Joe      1 May, 1997    joe@root.com'"
      ]
     },
     "execution_count": 5,
     "metadata": {},
     "output_type": "execute_result"
    }
   ],
   "source": [
    "text = ' '.join(text_1)\n",
    "text"
   ]
  },
  {
   "cell_type": "code",
   "execution_count": 6,
   "id": "bea447ce",
   "metadata": {
    "scrolled": true
   },
   "outputs": [
    {
     "name": "stdout",
     "output_type": "stream",
     "text": [
      "Dayton high school, 8th grade students information\n",
      "==================================================\n",
      "\n",
      "Name\tbirth day   \temail\n",
      "-----\t------------\t------\n",
      "Virat   5 June, 1882    virat@kohli.com\n",
      "Maria\t12 April, 2001  maria@sharapova.com\n",
      "Serena  24 June, 1998   serena@williams.com \n",
      "Joe      1 May, 1997    joe@root.com\n"
     ]
    }
   ],
   "source": [
    "text_1 = nlp('''Dayton high school, 8th grade students information\n",
    "==================================================\n",
    "\n",
    "Name\tbirth day   \temail\n",
    "-----\t------------\t------\n",
    "Virat   5 June, 1882    virat@kohli.com\n",
    "Maria\t12 April, 2001  maria@sharapova.com\n",
    "Serena  24 June, 1998   serena@williams.com \n",
    "Joe      1 May, 1997    joe@root.com''')\n",
    "for Abc in text_1.sents:\n",
    "    print(Abc)"
   ]
  },
  {
   "cell_type": "code",
   "execution_count": 7,
   "id": "1d576a53",
   "metadata": {},
   "outputs": [
    {
     "data": {
      "text/plain": [
       "['virat@kohli.com',\n",
       " 'maria@sharapova.com',\n",
       " 'serena@williams.com',\n",
       " 'joe@root.com']"
      ]
     },
     "execution_count": 7,
     "metadata": {},
     "output_type": "execute_result"
    }
   ],
   "source": [
    "email = nlp(text_1)\n",
    "email_list = []\n",
    "\n",
    "for token in email:\n",
    "    if token.like_email:\n",
    "        email_list.append(token.text)\n",
    "email_list"
   ]
  },
  {
   "cell_type": "code",
   "execution_count": null,
   "id": "bcccf01d",
   "metadata": {},
   "outputs": [],
   "source": []
  },
  {
   "cell_type": "code",
   "execution_count": null,
   "id": "65ba2c38",
   "metadata": {},
   "outputs": [],
   "source": []
  }
 ],
 "metadata": {
  "kernelspec": {
   "display_name": "Python 3 (ipykernel)",
   "language": "python",
   "name": "python3"
  },
  "language_info": {
   "codemirror_mode": {
    "name": "ipython",
    "version": 3
   },
   "file_extension": ".py",
   "mimetype": "text/x-python",
   "name": "python",
   "nbconvert_exporter": "python",
   "pygments_lexer": "ipython3",
   "version": "3.9.7"
  }
 },
 "nbformat": 4,
 "nbformat_minor": 5
}
