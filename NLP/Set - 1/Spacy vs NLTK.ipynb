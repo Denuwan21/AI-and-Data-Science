{
 "cells": [
  {
   "cell_type": "code",
   "execution_count": 2,
   "id": "a7180bc4",
   "metadata": {},
   "outputs": [],
   "source": [
    "import spacy as sp\n",
    "import nltk\n",
    "from nltk import sent_tokenize"
   ]
  },
  {
   "cell_type": "code",
   "execution_count": 3,
   "id": "897ac4bd",
   "metadata": {},
   "outputs": [],
   "source": [
    "nlp = sp.load(\"en_core_web_sm\")\n",
    "\n",
    "doc = nlp(\"In a nutshell, classes are essentially user defined data types. Classes are where we create a blueprint for the structure of methods and attributes. Individual objects are instantiated, or created from this blueprint.\")"
   ]
  },
  {
   "cell_type": "code",
   "execution_count": 4,
   "id": "1cfde146",
   "metadata": {},
   "outputs": [
    {
     "name": "stdout",
     "output_type": "stream",
     "text": [
      "In a nutshell, classes are essentially user defined data types.\n",
      "Classes are where we create a blueprint for the structure of methods and attributes.\n",
      "Individual objects are instantiated, or created from this blueprint.\n"
     ]
    }
   ],
   "source": [
    "for sentence in doc.sents:\n",
    "    print(sentence)"
   ]
  },
  {
   "cell_type": "code",
   "execution_count": 27,
   "id": "95098ff8",
   "metadata": {},
   "outputs": [
    {
     "name": "stdout",
     "output_type": "stream",
     "text": [
      "In\n",
      "a\n",
      "nutshell\n",
      ",\n",
      "classes\n",
      "are\n",
      "essentially\n",
      "user\n",
      "defined\n",
      "data\n",
      "types\n",
      ".\n",
      "Classes\n",
      "are\n",
      "where\n",
      "we\n",
      "create\n",
      "a\n",
      "blueprint\n",
      "for\n",
      "the\n",
      "structure\n",
      "of\n",
      "methods\n",
      "and\n",
      "attributes\n",
      ".\n",
      "Individual\n",
      "objects\n",
      "are\n",
      "instantiated\n",
      ",\n",
      "or\n",
      "created\n",
      "from\n",
      "this\n",
      "blueprint\n",
      ".\n"
     ]
    }
   ],
   "source": [
    "for sentence in doc.sents:\n",
    "    for word in sentence:\n",
    "        print(word)"
   ]
  },
  {
   "cell_type": "code",
   "execution_count": 28,
   "id": "ec0a3259",
   "metadata": {},
   "outputs": [
    {
     "data": {
      "text/plain": [
       "['In a nutshell, classes are essentially user defined data types.',\n",
       " 'Classes are where we create a blueprint for the structure of methods and attributes.',\n",
       " 'Individual objects are instantiated, or created from this blueprint.']"
      ]
     },
     "execution_count": 28,
     "metadata": {},
     "output_type": "execute_result"
    }
   ],
   "source": [
    "sent_tokenize(\"In a nutshell, classes are essentially user defined data types. Classes are where we create a blueprint for the structure of methods and attributes. Individual objects are instantiated, or created from this blueprint.\")"
   ]
  },
  {
   "cell_type": "code",
   "execution_count": 1,
   "id": "ebc24c47",
   "metadata": {},
   "outputs": [
    {
     "ename": "NameError",
     "evalue": "name 'nlp' is not defined",
     "output_type": "error",
     "traceback": [
      "\u001b[1;31m---------------------------------------------------------------------------\u001b[0m",
      "\u001b[1;31mNameError\u001b[0m                                 Traceback (most recent call last)",
      "\u001b[1;32m~\\AppData\\Local\\Temp/ipykernel_19432/1712431995.py\u001b[0m in \u001b[0;36m<module>\u001b[1;34m\u001b[0m\n\u001b[1;32m----> 1\u001b[1;33m text_2 = nlp(\"\"\"'Look for data to help you address the question. Governments are good\n\u001b[0m\u001b[0;32m      2\u001b[0m \u001b[0msources\u001b[0m \u001b[0mbecause\u001b[0m \u001b[0mdata\u001b[0m \u001b[1;32mfrom\u001b[0m \u001b[0mpublic\u001b[0m \u001b[0mresearch\u001b[0m \u001b[1;32mis\u001b[0m \u001b[0moften\u001b[0m \u001b[0mfreely\u001b[0m \u001b[0mavailable\u001b[0m\u001b[1;33m.\u001b[0m \u001b[0mGood\u001b[0m\u001b[1;33m\u001b[0m\u001b[1;33m\u001b[0m\u001b[0m\n\u001b[0;32m      3\u001b[0m \u001b[0mplaces\u001b[0m \u001b[0mto\u001b[0m \u001b[0mstart\u001b[0m \u001b[0minclude\u001b[0m \u001b[0mhttp\u001b[0m\u001b[1;33m:\u001b[0m\u001b[1;33m//\u001b[0m\u001b[0mwww\u001b[0m\u001b[1;33m.\u001b[0m\u001b[0mdata\u001b[0m\u001b[1;33m.\u001b[0m\u001b[0mgov\u001b[0m\u001b[1;33m/\u001b[0m\u001b[1;33m,\u001b[0m \u001b[1;32mand\u001b[0m \u001b[0mhttp\u001b[0m\u001b[1;33m:\u001b[0m\u001b[1;33m//\u001b[0m\u001b[0mwww\u001b[0m\u001b[1;33m.\u001b[0m\u001b[0mscience\u001b[0m\u001b[1;33m.\u001b[0m\u001b[1;33m\u001b[0m\u001b[1;33m\u001b[0m\u001b[0m\n\u001b[0;32m      4\u001b[0m \u001b[0mgov\u001b[0m\u001b[1;33m/\u001b[0m\u001b[1;33m,\u001b[0m \u001b[1;32mand\u001b[0m \u001b[1;32min\u001b[0m \u001b[0mthe\u001b[0m \u001b[0mUnited\u001b[0m \u001b[0mKingdom\u001b[0m\u001b[1;33m,\u001b[0m \u001b[0mhttp\u001b[0m\u001b[1;33m:\u001b[0m\u001b[1;33m//\u001b[0m\u001b[0mdata\u001b[0m\u001b[1;33m.\u001b[0m\u001b[0mgov\u001b[0m\u001b[1;33m.\u001b[0m\u001b[0muk\u001b[0m\u001b[1;33m/\u001b[0m\u001b[1;33m.\u001b[0m\u001b[1;33m\u001b[0m\u001b[1;33m\u001b[0m\u001b[0m\n\u001b[0;32m      5\u001b[0m \u001b[0mTwo\u001b[0m \u001b[0mof\u001b[0m \u001b[0mmy\u001b[0m \u001b[0mfavorite\u001b[0m \u001b[0mdata\u001b[0m \u001b[0msets\u001b[0m \u001b[0mare\u001b[0m \u001b[0mthe\u001b[0m \u001b[0mGeneral\u001b[0m \u001b[0mSocial\u001b[0m \u001b[0mSurvey\u001b[0m \u001b[0mat\u001b[0m \u001b[0mhttp\u001b[0m\u001b[1;33m:\u001b[0m\u001b[1;33m//\u001b[0m\u001b[0mwww3\u001b[0m\u001b[1;33m.\u001b[0m\u001b[0mnorc\u001b[0m\u001b[1;33m.\u001b[0m\u001b[0morg\u001b[0m\u001b[1;33m/\u001b[0m\u001b[0mgss\u001b[0m\u001b[1;33m+\u001b[0m\u001b[0mwebsite\u001b[0m\u001b[1;33m/\u001b[0m\u001b[1;33m,\u001b[0m\u001b[1;33m\u001b[0m\u001b[1;33m\u001b[0m\u001b[0m\n",
      "\u001b[1;31mNameError\u001b[0m: name 'nlp' is not defined"
     ]
    }
   ],
   "source": []
  },
  {
   "cell_type": "code",
   "execution_count": null,
   "id": "62af5781",
   "metadata": {},
   "outputs": [],
   "source": []
  }
 ],
 "metadata": {
  "kernelspec": {
   "display_name": "Python 3 (ipykernel)",
   "language": "python",
   "name": "python3"
  },
  "language_info": {
   "codemirror_mode": {
    "name": "ipython",
    "version": 3
   },
   "file_extension": ".py",
   "mimetype": "text/x-python",
   "name": "python",
   "nbconvert_exporter": "python",
   "pygments_lexer": "ipython3",
   "version": "3.9.7"
  }
 },
 "nbformat": 4,
 "nbformat_minor": 5
}
