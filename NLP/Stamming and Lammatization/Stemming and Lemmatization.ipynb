{
 "cells": [
  {
   "cell_type": "code",
   "execution_count": 2,
   "id": "e024c6c9",
   "metadata": {},
   "outputs": [],
   "source": [
    "import nltk as nl\n",
    "import spacy as sp\n",
    "from nltk import PorterStemmer"
   ]
  },
  {
   "cell_type": "code",
   "execution_count": 10,
   "id": "814a4518",
   "metadata": {},
   "outputs": [],
   "source": [
    "stemmer = PorterStemmer()\n",
    "nlp = sp.load('en_core_web_sm')"
   ]
  },
  {
   "cell_type": "code",
   "execution_count": 16,
   "id": "c77f462e",
   "metadata": {},
   "outputs": [],
   "source": [
    "doc = ['eating', 'running', 'ate', 'meeting', 'ability', 'jummping']"
   ]
  },
  {
   "cell_type": "code",
   "execution_count": 17,
   "id": "74bd1c9d",
   "metadata": {},
   "outputs": [
    {
     "name": "stdout",
     "output_type": "stream",
     "text": [
      "eating  |  eat\n",
      "running  |  run\n",
      "ate  |  ate\n",
      "meeting  |  meet\n",
      "ability  |  abil\n",
      "jummping  |  jummp\n"
     ]
    }
   ],
   "source": [
    "for word in doc:\n",
    "    print(word, ' | ', stemmer.stem(word))"
   ]
  },
  {
   "cell_type": "code",
   "execution_count": 19,
   "id": "ec55e905",
   "metadata": {},
   "outputs": [
    {
     "name": "stdout",
     "output_type": "stream",
     "text": [
      "eating  |  eat\n",
      "running  |  run\n",
      "ate  |  eat\n",
      "meeting  |  meeting\n",
      "ability  |  ability\n",
      "jummping  |  jummpe\n"
     ]
    }
   ],
   "source": [
    "doc2 = nlp('eating running ate meeting ability jummping')\n",
    "for wd in doc2:\n",
    "    print(wd.text,' | ', wd.lemma_)"
   ]
  },
  {
   "cell_type": "code",
   "execution_count": null,
   "id": "5228fcd8",
   "metadata": {},
   "outputs": [],
   "source": []
  }
 ],
 "metadata": {
  "kernelspec": {
   "display_name": "Python 3 (ipykernel)",
   "language": "python",
   "name": "python3"
  },
  "language_info": {
   "codemirror_mode": {
    "name": "ipython",
    "version": 3
   },
   "file_extension": ".py",
   "mimetype": "text/x-python",
   "name": "python",
   "nbconvert_exporter": "python",
   "pygments_lexer": "ipython3",
   "version": "3.9.7"
  }
 },
 "nbformat": 4,
 "nbformat_minor": 5
}
