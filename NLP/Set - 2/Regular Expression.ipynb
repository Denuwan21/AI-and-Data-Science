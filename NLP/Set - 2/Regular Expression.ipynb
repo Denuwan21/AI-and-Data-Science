{
 "cells": [
  {
   "cell_type": "code",
   "execution_count": 105,
   "id": "1c58b4bd",
   "metadata": {},
   "outputs": [],
   "source": [
    "import re"
   ]
  },
  {
   "cell_type": "code",
   "execution_count": 106,
   "id": "8c9cc1f3",
   "metadata": {},
   "outputs": [],
   "source": [
    "text1 = 'My Contact Number No 0772700130 and (521)-145-254-689'"
   ]
  },
  {
   "cell_type": "code",
   "execution_count": 107,
   "id": "b7c66897",
   "metadata": {},
   "outputs": [],
   "source": [
    "pattern = '\\(\\d{3}\\)-\\d{3}-\\d{3}-\\d{3}|\\d{10}' "
   ]
  },
  {
   "cell_type": "code",
   "execution_count": 108,
   "id": "877d25fd",
   "metadata": {},
   "outputs": [],
   "source": [
    " match = re.findall(pattern, text1)"
   ]
  },
  {
   "cell_type": "code",
   "execution_count": 109,
   "id": "9908b8ef",
   "metadata": {},
   "outputs": [
    {
     "name": "stdout",
     "output_type": "stream",
     "text": [
      "Contact Numbers :-  ['0772700130', '(521)-145-254-689']\n"
     ]
    }
   ],
   "source": [
    "print('Contact Numbers :- ', match)"
   ]
  },
  {
   "cell_type": "code",
   "execution_count": 110,
   "id": "aa0a65a2",
   "metadata": {},
   "outputs": [],
   "source": [
    "text2 = '''\n",
    "Note 1 – Summary of Significant Accounting Policies\n",
    "Unaudited Interim Financial Statements\n",
    "The consolidated financial statements of Tesla, Inc. (“Tesla”, the “Company”, “we”, “us” or “our”), including the consolidated balance sheet as of\n",
    "September 30, 2023, the consolidated statements of operations, the consolidated statements of comprehensive income, the consolidated statements of\n",
    "redeemable noncontrolling interests and equity for the three and nine months ended September 30, 2023 and 2022, and the consolidated statements of\n",
    "cash flows for the nine months ended September 30, 2023 and 2022, as well as other information disclosed in the accompanying notes, are unaudited.\n",
    "The consolidated balance sheet as of December 31, 2022 was derived from the audited consolidated financial statements as of that date. The interim\n",
    "consolidated financial statements and the accompanying notes should be read in conjunction with the annual consolidated financial statements and the\n",
    "accompanying notes contained in our Annual Report on Form 10-K for the year ended December 31, 2022.\n",
    "\n",
    "\n",
    "Note 2 – Fair Value of Financial Instruments\n",
    "ASC 820, Fair Value Measurements (“ASC 820”) states that fair value is an exit price, representing the amount that would be received to sell an\n",
    "asset or paid to transfer a liability in an orderly transaction between market participants. As such, fair value is a market-based measurement that should\n",
    "be determined based on assumptions that market participants would use in pricing an asset or a liability. The three-tiered fair value hierarchy, which\n",
    "prioritizes which inputs should be used in measuring fair value, is comprised of: (Level I) observable inputs such as quoted prices in active markets; (Level\n",
    "II) inputs other than quoted prices in active markets that are observable either directly or indirectly and (Level III) unobservable inputs for which there is\n",
    "little or no market data. The fair value hierarchy requires the use of observable market data when available in determining fair value. Our assets and\n",
    "liabilities that were measured at fair value on a recurring basis were as follows (in millions):\n",
    "\n",
    "\n",
    "Note 9 – Commitments and Contingencies\n",
    "Operating Lease Arrangements in Buffalo, New York and Shanghai, China\n",
    "For a description of our operating lease arrangements in Buffalo, New York, and Shanghai, China, refer to Note 15, Commitments and\n",
    "Contingencies, in our Annual Report on Form 10-K for the year ended December 31, 2022. As of September 30, 2023, we expect to meet the\n",
    "requirements under these arrangements based on our current and anticipated level of operations.\n",
    "Legal Proceedings\n",
    "Litigation Relating to the SolarCity Acquisition\n",
    "Between September 1, 2016 and October 5, 2016, seven lawsuits were filed in the Delaware Court of Chancery by purported stockholders of Tesla\n",
    "challenging our acquisition of SolarCity Corporation (“SolarCity”). Following consolidation, the lawsuit names as defendants the members of Tesla’s board\n",
    "of directors as then constituted and alleges, among other things, that board members breached their fiduciary duties in connection with the acquisition.\n",
    "The complaint asserts both derivative claims and direct claims on behalf of a purported class and seeks, among other relief, unspecified monetary\n",
    "damages, attorneys’ fees and costs. On January 22, 2020, all of the director defendants except Elon Musk reached a settlement to resolve the lawsuit\n",
    "against them for an amount to be paid entirely under the applicable insurance policy. The settlement, which does not involve an admission of any\n",
    "wrongdoing by any party, was approved by the Court on August 17, 2020. Tesla received payment of approximately $43 million on September 16, 2020,\n",
    "which has been recognized in our consolidated statements of operations as a reduction to Selling, general and administrative operating expenses for\n",
    "costs previously incurred related to the acquisition of SolarCity. The trial was held from July 12 to July 23, 2021 and on August 16, 2021. On October 22,\n",
    "2021, the Court approved the parties’ joint stipulation that (a) the class is decertified and the action shall continue exclusively as a derivative action under\n",
    "Court of Chancery Rule 23.1 and (b) the direct claims against Elon Musk are dismissed with prejudice. Following post-trial briefing, post-trial argument was\n",
    "held on January 18, 2022.\n",
    "\n",
    "'''"
   ]
  },
  {
   "cell_type": "code",
   "execution_count": 117,
   "id": "2cb0b8dc",
   "metadata": {},
   "outputs": [],
   "source": [
    "pattern = 'Note \\d ([^\\n]*)'\n",
    "pattern2 = '\\(^\\n\\*)'"
   ]
  },
  {
   "cell_type": "code",
   "execution_count": 118,
   "id": "7fb7d296",
   "metadata": {},
   "outputs": [],
   "source": [
    "match = re.findall(pattern, pattern2)"
   ]
  },
  {
   "cell_type": "code",
   "execution_count": 119,
   "id": "ce23ce07",
   "metadata": {},
   "outputs": [
    {
     "name": "stdout",
     "output_type": "stream",
     "text": [
      "[]\n"
     ]
    }
   ],
   "source": [
    "print(match)"
   ]
  },
  {
   "cell_type": "code",
   "execution_count": null,
   "id": "cde8fe89",
   "metadata": {},
   "outputs": [],
   "source": []
  },
  {
   "cell_type": "code",
   "execution_count": null,
   "id": "c178165d",
   "metadata": {},
   "outputs": [],
   "source": []
  },
  {
   "cell_type": "code",
   "execution_count": null,
   "id": "ff358f1d",
   "metadata": {},
   "outputs": [],
   "source": []
  },
  {
   "cell_type": "code",
   "execution_count": null,
   "id": "61a7ce09",
   "metadata": {},
   "outputs": [],
   "source": []
  },
  {
   "cell_type": "code",
   "execution_count": null,
   "id": "68870e03",
   "metadata": {},
   "outputs": [],
   "source": []
  },
  {
   "cell_type": "code",
   "execution_count": null,
   "id": "2419d564",
   "metadata": {},
   "outputs": [],
   "source": []
  },
  {
   "cell_type": "code",
   "execution_count": null,
   "id": "745c3fc3",
   "metadata": {},
   "outputs": [],
   "source": []
  },
  {
   "cell_type": "code",
   "execution_count": null,
   "id": "59b91a09",
   "metadata": {},
   "outputs": [],
   "source": []
  },
  {
   "cell_type": "code",
   "execution_count": null,
   "id": "7b2fc376",
   "metadata": {},
   "outputs": [],
   "source": []
  },
  {
   "cell_type": "code",
   "execution_count": null,
   "id": "15ed20c4",
   "metadata": {},
   "outputs": [],
   "source": []
  }
 ],
 "metadata": {
  "kernelspec": {
   "display_name": "Python 3 (ipykernel)",
   "language": "python",
   "name": "python3"
  },
  "language_info": {
   "codemirror_mode": {
    "name": "ipython",
    "version": 3
   },
   "file_extension": ".py",
   "mimetype": "text/x-python",
   "name": "python",
   "nbconvert_exporter": "python",
   "pygments_lexer": "ipython3",
   "version": "3.9.7"
  }
 },
 "nbformat": 4,
 "nbformat_minor": 5
}
