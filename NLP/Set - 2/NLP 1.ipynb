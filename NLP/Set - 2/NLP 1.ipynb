{
 "cells": [
  {
   "cell_type": "code",
   "execution_count": 40,
   "id": "198d02dd",
   "metadata": {},
   "outputs": [],
   "source": [
    "import spacy as sp"
   ]
  },
  {
   "cell_type": "code",
   "execution_count": 41,
   "id": "c67277ab",
   "metadata": {},
   "outputs": [],
   "source": [
    "SP = sp.load('en_core_web_sm')"
   ]
  },
  {
   "cell_type": "code",
   "execution_count": 42,
   "id": "a68102ba",
   "metadata": {},
   "outputs": [
    {
     "name": "stdout",
     "output_type": "stream",
     "text": [
      "Sri Lanka is an island country located off the southern coast of India. Sri Lanka is surrounded by the Indian Ocean, Gulf of Mannar, the Palk Strait, and lies in the vicinity of India and the Maldives. The geography of Sri Lanka includes coastal plains in the north and hills and mountains in the interior. The government system is a republic; the chief of state and head of government is the president. Sri Lanka has transitioned to a market-orientated economy, but the central government is still involved in economic planning. Sri Lanka is a member of the Asia-Pacific Trade Agreement (APTA) and the South Asian Association for Regional Cooperation (SAARC).\n"
     ]
    }
   ],
   "source": [
    "with open('wiki.txt', 'r') as sri:\n",
    "    lanka = sri.read()\n",
    "\n",
    "print(lanka)"
   ]
  },
  {
   "cell_type": "code",
   "execution_count": 43,
   "id": "fd568ce9",
   "metadata": {},
   "outputs": [
    {
     "name": "stdout",
     "output_type": "stream",
     "text": [
      "Sri Lanka is an island country located off the southern coast of India. Sri Lanka is surrounded by the Indian Ocean, Gulf of Mannar, the Palk Strait, and lies in the vicinity of India and the Maldives. The geography of Sri Lanka includes coastal plains in the north and hills and mountains in the interior. The government system is a republic; the chief of state and head of government is the president. Sri Lanka has transitioned to a market-orientated economy, but the central government is still involved in economic planning. Sri Lanka is a member of the Asia-Pacific Trade Agreement (APTA) and the South Asian Association for Regional Cooperation (SAARC).\n"
     ]
    }
   ],
   "source": [
    "doc_1 = SP(lanka)\n",
    "print(doc_1)"
   ]
  },
  {
   "cell_type": "code",
   "execution_count": 27,
   "id": "c19168a5",
   "metadata": {},
   "outputs": [
    {
     "name": "stdout",
     "output_type": "stream",
     "text": [
      "660\n",
      "129\n"
     ]
    }
   ],
   "source": [
    "print(len(lanka))\n",
    "print(len(doc_1))"
   ]
  },
  {
   "cell_type": "code",
   "execution_count": 36,
   "id": "bb80721f",
   "metadata": {},
   "outputs": [
    {
     "name": "stdout",
     "output_type": "stream",
     "text": [
      "S\n",
      "r\n",
      "i\n",
      " \n",
      "L\n",
      "a\n",
      "n\n",
      "k\n",
      "a\n",
      " \n"
     ]
    }
   ],
   "source": [
    "for token in lanka[:10]:\n",
    "    print(token)"
   ]
  },
  {
   "cell_type": "code",
   "execution_count": 34,
   "id": "e77d3c36",
   "metadata": {},
   "outputs": [
    {
     "name": "stdout",
     "output_type": "stream",
     "text": [
      "Sri\n",
      "Lanka\n",
      "is\n",
      "an\n",
      "island\n",
      "country\n",
      "located\n",
      "off\n",
      "the\n",
      "southern\n"
     ]
    }
   ],
   "source": [
    "for token in doc_1[:10]:\n",
    "    print(token)"
   ]
  },
  {
   "cell_type": "code",
   "execution_count": 35,
   "id": "af305f33",
   "metadata": {},
   "outputs": [
    {
     "name": "stdout",
     "output_type": "stream",
     "text": [
      "Sri\n",
      "Lanka\n",
      "is\n",
      "an\n",
      "island\n",
      "country\n",
      "located\n",
      "off\n",
      "the\n",
      "southern\n"
     ]
    }
   ],
   "source": [
    "for token in lanka.split()[:10]:\n",
    "    print(token)"
   ]
  },
  {
   "cell_type": "code",
   "execution_count": 39,
   "id": "80e541f7",
   "metadata": {},
   "outputs": [
    {
     "name": "stdout",
     "output_type": "stream",
     "text": [
      "Sri Lanka is an island country located off the southern coast of India.\n",
      "Sri Lanka is surrounded by the Indian Ocean, Gulf of Mannar, the Palk Strait, and lies in the vicinity of India and the Maldives.\n",
      "The geography of Sri Lanka includes coastal plains in the north and hills and mountains in the interior.\n",
      "The government system is a republic; the chief of state and head of government is the president.\n",
      "Sri Lanka has transitioned to a market-orientated economy, but the central government is still involved in economic planning.\n",
      "Sri Lanka is a member of the Asia-Pacific Trade Agreement (APTA) and the South Asian Association for Regional Cooperation (SAARC).\n"
     ]
    }
   ],
   "source": [
    "for token in doc_1.sents:\n",
    "    print(token)"
   ]
  },
  {
   "cell_type": "code",
   "execution_count": 49,
   "id": "12762b0b",
   "metadata": {},
   "outputs": [
    {
     "name": "stdout",
     "output_type": "stream",
     "text": [
      "The geography of Sri Lanka includes coastal plains in the north and hills and mountains in the interior.\n"
     ]
    }
   ],
   "source": [
    "sent_1 = list(doc_1.sents)[2]\n",
    "print(sent_1)"
   ]
  },
  {
   "cell_type": "code",
   "execution_count": 50,
   "id": "260cde15",
   "metadata": {},
   "outputs": [
    {
     "name": "stdout",
     "output_type": "stream",
     "text": [
      "The\n",
      "geography\n",
      "of\n",
      "Sri\n",
      "Lanka\n",
      "includes\n",
      "coastal\n",
      "plains\n",
      "in\n",
      "the\n"
     ]
    }
   ],
   "source": [
    "for token in sent_1[:10]:\n",
    "    print(token)"
   ]
  },
  {
   "cell_type": "code",
   "execution_count": 73,
   "id": "08a1da2e",
   "metadata": {},
   "outputs": [
    {
     "data": {
      "text/plain": [
       "'geography'"
      ]
     },
     "execution_count": 73,
     "metadata": {},
     "output_type": "execute_result"
    }
   ],
   "source": [
    "tkn = sent_1[1]\n",
    "tkn.text"
   ]
  },
  {
   "cell_type": "code",
   "execution_count": 74,
   "id": "0c61d217",
   "metadata": {},
   "outputs": [
    {
     "data": {
      "text/plain": [
       "The"
      ]
     },
     "execution_count": 74,
     "metadata": {},
     "output_type": "execute_result"
    }
   ],
   "source": [
    "tkn.left_edge"
   ]
  },
  {
   "cell_type": "code",
   "execution_count": 75,
   "id": "80a569a0",
   "metadata": {},
   "outputs": [
    {
     "data": {
      "text/plain": [
       "Lanka"
      ]
     },
     "execution_count": 75,
     "metadata": {},
     "output_type": "execute_result"
    }
   ],
   "source": [
    "tkn.right_edge"
   ]
  },
  {
   "cell_type": "code",
   "execution_count": null,
   "id": "52e60eb3",
   "metadata": {},
   "outputs": [],
   "source": []
  }
 ],
 "metadata": {
  "kernelspec": {
   "display_name": "Python 3 (ipykernel)",
   "language": "python",
   "name": "python3"
  },
  "language_info": {
   "codemirror_mode": {
    "name": "ipython",
    "version": 3
   },
   "file_extension": ".py",
   "mimetype": "text/x-python",
   "name": "python",
   "nbconvert_exporter": "python",
   "pygments_lexer": "ipython3",
   "version": "3.9.7"
  }
 },
 "nbformat": 4,
 "nbformat_minor": 5
}
