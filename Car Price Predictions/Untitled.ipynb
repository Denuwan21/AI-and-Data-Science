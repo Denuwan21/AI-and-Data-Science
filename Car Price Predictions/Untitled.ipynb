{
 "cells": [
  {
   "cell_type": "code",
   "execution_count": 1,
   "id": "ea9bde72",
   "metadata": {},
   "outputs": [],
   "source": [
    "import pandas as pd\n",
    "from sklearn.preprocessing import LabelEncoder\n",
    "from sklearn import linear_model\n",
    "import pickle\n",
    "from sklearn.model_selection import train_test_split"
   ]
  },
  {
   "cell_type": "code",
   "execution_count": 3,
   "id": "8d189336",
   "metadata": {},
   "outputs": [],
   "source": [
    "Car = pd.read_csv(\"toyota.csv\")\n",
    "\n",
    "le = LabelEncoder()\n",
    "Car = Car\n",
    "Car.model = le.fit_transform(Car.model)\n",
    "\n",
    "Car = Car\n",
    "Car.transmission = le.fit_transform(Car.transmission)\n",
    "\n",
    "Car = Car\n",
    "Car.fuelType = le.fit_transform(Car.fuelType)\n",
    "\n",
    "Car[\"mpg\"] = Car[\"mpg\"].astype(int)\n",
    "Car[\"engineSize\"] = Car[\"engineSize\"].astype(int)\n",
    "\n",
    "X = Car.drop([\"price\"], axis = 1)\n",
    "\n",
    "Y = Car.price\n",
    "\n",
    "x_train, x_test, y_train, y_test = train_test_split(X, Y, test_size = 0.2)\n",
    "\n",
    "Final = linear_model.LinearRegression()\n",
    "Final.fit(x_train, y_train)\n",
    "\n",
    "Final.score(x_test,y_test)\n",
    "\n",
    "pickle.dump(Final, open('model.pkl','wb'))\n",
    "\n",
    "model = pickle.load(open('model.pkl', 'rb'))"
   ]
  },
  {
   "cell_type": "code",
   "execution_count": null,
   "id": "142bf068",
   "metadata": {},
   "outputs": [],
   "source": []
  }
 ],
 "metadata": {
  "kernelspec": {
   "display_name": "Python 3 (ipykernel)",
   "language": "python",
   "name": "python3"
  },
  "language_info": {
   "codemirror_mode": {
    "name": "ipython",
    "version": 3
   },
   "file_extension": ".py",
   "mimetype": "text/x-python",
   "name": "python",
   "nbconvert_exporter": "python",
   "pygments_lexer": "ipython3",
   "version": "3.9.7"
  }
 },
 "nbformat": 4,
 "nbformat_minor": 5
}
